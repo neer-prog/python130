{
 "cells": [
  {
   "cell_type": "code",
   "execution_count": 1,
   "id": "48025af8",
   "metadata": {},
   "outputs": [
    {
     "name": "stdout",
     "output_type": "stream",
     "text": [
      "10\n"
     ]
    }
   ],
   "source": [
    "a = 10 ri\n",
    "print(a)"
   ]
  },
  {
   "cell_type": "code",
   "execution_count": 5,
   "id": "4a485313",
   "metadata": {},
   "outputs": [
    {
     "name": "stdout",
     "output_type": "stream",
     "text": [
      "10\n",
      "10.5\n",
      "Hello world\n",
      "True\n",
      "10 10.5 Hello world True\n"
     ]
    }
   ],
   "source": [
    "a = 10                 #interger \n",
    "b = 10.5               #float \n",
    "c = \"Hello world\"      #string\n",
    "d = True               #boolean\n",
    "\n",
    "print(a)\n",
    "print(b)\n",
    "print(c)\n",
    "print(d)\n",
    "print(a,b,c,d)"
   ]
  },
  {
   "cell_type": "code",
   "execution_count": 6,
   "id": "cfd947d6",
   "metadata": {},
   "outputs": [
    {
     "name": "stdout",
     "output_type": "stream",
     "text": [
      "<class 'int'>\n",
      "<class 'float'>\n",
      "<class 'str'>\n",
      "<class 'bool'>\n"
     ]
    }
   ],
   "source": [
    "print(type(a))\n",
    "print(type(b))\n",
    "print(type(c))\n",
    "print(type(d))\n",
    "\n"
   ]
  },
  {
   "cell_type": "code",
   "execution_count": null,
   "id": "b45c115a",
   "metadata": {},
   "outputs": [],
   "source": [
    "a = 10                 #interger  0-9\n",
    "b = 10.5               #float     0-9 with.\n",
    "c = \"Hello world\"      #string    inside '' \"\"\n",
    "d = True               #boolean   either true or false"
   ]
  },
  {
   "cell_type": "code",
   "execution_count": null,
   "id": "13c60a29",
   "metadata": {},
   "outputs": [],
   "source": [
    "a = 'hello world'\n",
    "a = \"hello world\"\n",
    "a = ''''hello world'''"
   ]
  },
  {
   "cell_type": "code",
   "execution_count": null,
   "id": "66d774f5",
   "metadata": {},
   "outputs": [],
   "source": [
    "true = 10 \n",
    "a = true"
   ]
  },
  {
   "cell_type": "code",
   "execution_count": null,
   "id": "47c3866d",
   "metadata": {},
   "outputs": [],
   "source": [
    "#capital small should be taken care bc python is casee sensitive"
   ]
  },
  {
   "cell_type": "code",
   "execution_count": null,
   "id": "16ef2e02",
   "metadata": {},
   "outputs": [],
   "source": [
    "# + - * /"
   ]
  },
  {
   "cell_type": "code",
   "execution_count": 7,
   "id": "63d7cac0",
   "metadata": {},
   "outputs": [
    {
     "name": "stdout",
     "output_type": "stream",
     "text": [
      "13\n"
     ]
    }
   ],
   "source": [
    "a = 10\n",
    "b = 3 \n",
    "c = a + b # these are operators and operands\n",
    "print(c)"
   ]
  },
  {
   "cell_type": "code",
   "execution_count": 8,
   "id": "370d76c7",
   "metadata": {},
   "outputs": [
    {
     "name": "stdout",
     "output_type": "stream",
     "text": [
      "1\n",
      "1000\n",
      "3\n"
     ]
    }
   ],
   "source": [
    "a = 10\n",
    "b = 3 \n",
    "\n",
    "print(a%b)\n",
    "print(a**b) # 10^3\n",
    "print(a//b) #decimal value is ignored"
   ]
  },
  {
   "cell_type": "code",
   "execution_count": 1,
   "id": "869573f2",
   "metadata": {},
   "outputs": [
    {
     "name": "stdout",
     "output_type": "stream",
     "text": [
      "HelloWorld\n"
     ]
    }
   ],
   "source": [
    "a = \"Hello\"\n",
    "b = \"World\"\n",
    "print(a + b)\n"
   ]
  },
  {
   "cell_type": "code",
   "execution_count": 12,
   "id": "505acf2c",
   "metadata": {},
   "outputs": [
    {
     "name": "stdout",
     "output_type": "stream",
     "text": [
      "Hello world\n",
      "Hello world\n",
      "\n"
     ]
    }
   ],
   "source": [
    "print(\"Hello world\\n\"*2)"
   ]
  },
  {
   "cell_type": "code",
   "execution_count": 15,
   "id": "57b5ba93",
   "metadata": {},
   "outputs": [
    {
     "name": "stdout",
     "output_type": "stream",
     "text": [
      "1\n",
      "0\n"
     ]
    }
   ],
   "source": [
    "a = True #1\n",
    "b = False #0\n",
    "print(a + b)\n",
    "print (a * b)"
   ]
  },
  {
   "cell_type": "code",
   "execution_count": 17,
   "id": "62f758cf",
   "metadata": {},
   "outputs": [
    {
     "ename": "ZeroDivisionError",
     "evalue": "division by zero",
     "output_type": "error",
     "traceback": [
      "\u001b[1;31m---------------------------------------------------------------------------\u001b[0m",
      "\u001b[1;31mZeroDivisionError\u001b[0m                         Traceback (most recent call last)",
      "Cell \u001b[1;32mIn[17], line 3\u001b[0m\n\u001b[0;32m      1\u001b[0m a \u001b[38;5;241m=\u001b[39m \u001b[38;5;241m10\u001b[39m\n\u001b[0;32m      2\u001b[0m b \u001b[38;5;241m=\u001b[39m \u001b[38;5;241m0\u001b[39m \n\u001b[1;32m----> 3\u001b[0m \u001b[38;5;28mprint\u001b[39m(a\u001b[38;5;241m/\u001b[39mb)\n",
      "\u001b[1;31mZeroDivisionError\u001b[0m: division by zero"
     ]
    }
   ],
   "source": [
    "a = 10\n",
    "b = 0 \n",
    "print(a/b) #case of exception"
   ]
  },
  {
   "cell_type": "code",
   "execution_count": null,
   "id": "2740401b",
   "metadata": {},
   "outputs": [],
   "source": []
  }
 ],
 "metadata": {
  "kernelspec": {
   "display_name": "Python 3 (ipykernel)",
   "language": "python",
   "name": "python3"
  },
  "language_info": {
   "codemirror_mode": {
    "name": "ipython",
    "version": 3
   },
   "file_extension": ".py",
   "mimetype": "text/x-python",
   "name": "python",
   "nbconvert_exporter": "python",
   "pygments_lexer": "ipython3",
   "version": "3.11.7"
  }
 },
 "nbformat": 4,
 "nbformat_minor": 5
}
