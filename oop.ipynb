{
 "cells": [
  {
   "cell_type": "code",
   "execution_count": 2,
   "id": "e5ce7d6c-aafa-4ee4-b4aa-ac8594179cb0",
   "metadata": {},
   "outputs": [
    {
     "name": "stdout",
     "output_type": "stream",
     "text": [
      "<class '__main__.Info'>\n",
      "<class '__main__.Info'>\n"
     ]
    }
   ],
   "source": [
    "#str method\n",
    "\n",
    "class Info:\n",
    "    def __init__(self):\n",
    "        self.name = \"Ram\"\n",
    "        self.age = 45\n",
    "        self.add = \"Kathmandu\"\n",
    "        \n",
    "    def __str__(self):\n",
    "        return self.name\n",
    "\n",
    "obj = Info()\n",
    "print(Info)\n",
    "print(type(obj))"
   ]
  },
  {
   "cell_type": "code",
   "execution_count": 4,
   "id": "8d2b30e3-dc62-4d5a-b0a0-c7a85ccb8ac9",
   "metadata": {},
   "outputs": [
    {
     "data": {
      "text/plain": [
       "'Ram'"
      ]
     },
     "execution_count": 4,
     "metadata": {},
     "output_type": "execute_result"
    }
   ],
   "source": [
    "# to get values into string\n",
    "\n",
    "obj.__str__()\n"
   ]
  },
  {
   "cell_type": "code",
   "execution_count": 6,
   "id": "ef988ebd-fdb4-4336-87e1-32a610e2ac56",
   "metadata": {},
   "outputs": [
    {
     "name": "stdout",
     "output_type": "stream",
     "text": [
      "Ram\n"
     ]
    }
   ],
   "source": [
    "print(str(obj))"
   ]
  },
  {
   "cell_type": "code",
   "execution_count": 8,
   "id": "f4436094-7b29-45a6-9fed-621b13ba2ba5",
   "metadata": {},
   "outputs": [
    {
     "ename": "TypeError",
     "evalue": "unsupported operand type(s) for +: 'Info' and 'str'",
     "output_type": "error",
     "traceback": [
      "\u001b[1;31m---------------------------------------------------------------------------\u001b[0m",
      "\u001b[1;31mTypeError\u001b[0m                                 Traceback (most recent call last)",
      "Cell \u001b[1;32mIn[8], line 1\u001b[0m\n\u001b[1;32m----> 1\u001b[0m \u001b[38;5;28mprint\u001b[39m(obj \u001b[38;5;241m+\u001b[39m \u001b[38;5;124m\"\u001b[39m\u001b[38;5;124mShyam\u001b[39m\u001b[38;5;124m\"\u001b[39m)\n",
      "\u001b[1;31mTypeError\u001b[0m: unsupported operand type(s) for +: 'Info' and 'str'"
     ]
    }
   ],
   "source": [
    "print(obj + \"Shyam\")"
   ]
  },
  {
   "cell_type": "code",
   "execution_count": 22,
   "id": "1f4bef44-fd9f-46cf-af11-679b7a8461c9",
   "metadata": {},
   "outputs": [
    {
     "name": "stdout",
     "output_type": "stream",
     "text": [
      "This is init method 1000\n",
      "This is init method 2000\n",
      "This is init method 2500\n",
      "This is add method 3000\n",
      "This is init method 3000\n",
      "This is add method 5500\n",
      "This is init method 5500\n",
      "This is str method 5500\n",
      "5500\n"
     ]
    }
   ],
   "source": [
    "class Point:\n",
    "    def __init__(self, x=0):\n",
    "        self.x = x\n",
    "        print(\"This is init method\", self.x)\n",
    "        \n",
    "    def __str__(self):\n",
    "        print(\"This is str method\", self.x)\n",
    "        return str(self.x)\n",
    "        \n",
    "    def __add__(self, other):\n",
    "        x = self.x + other.x\n",
    "        print(\"This is add method\", x)\n",
    "        return Point(x)\n",
    "\n",
    "p1 = Point(1000)\n",
    "p2 = Point(2000)\n",
    "p3 = Point(2500)\n",
    "\n",
    "print(p1 + p2 + p3)"
   ]
  },
  {
   "cell_type": "code",
   "execution_count": 28,
   "id": "5b3867e9-26a0-465f-a829-00dd53bfc59f",
   "metadata": {},
   "outputs": [
    {
     "name": "stdout",
     "output_type": "stream",
     "text": [
      "Parrots can fly\n",
      "Penguins can't fly\n"
     ]
    }
   ],
   "source": [
    "class Parrot:\n",
    "    def fly(self):\n",
    "        print(\"Parrots can fly\")\n",
    "    def swim(self):\n",
    "        print(\"Parrots can't swim\")\n",
    "\n",
    "class Penguin:\n",
    "    def fly(self):\n",
    "        print(\"Penguins can't fly\")\n",
    "    def swim(self):\n",
    "        print(\"Penguins can swim\")\n",
    "\n",
    "# Common interface\n",
    "def flying_test(bird):\n",
    "    bird.fly()\n",
    "\n",
    "#instantiate objects\n",
    "blu = Parrot()\n",
    "peggy = Penguin()\n",
    "#passing the object\n",
    "flying_test(blu)\n",
    "flying_test(peggy)"
   ]
  },
  {
   "cell_type": "code",
   "execution_count": null,
   "id": "f7291f5e-9c3f-487d-9e72-138c0638f675",
   "metadata": {},
   "outputs": [],
   "source": []
  }
 ],
 "metadata": {
  "kernelspec": {
   "display_name": "Python 3 (ipykernel)",
   "language": "python",
   "name": "python3"
  },
  "language_info": {
   "codemirror_mode": {
    "name": "ipython",
    "version": 3
   },
   "file_extension": ".py",
   "mimetype": "text/x-python",
   "name": "python",
   "nbconvert_exporter": "python",
   "pygments_lexer": "ipython3",
   "version": "3.11.7"
  }
 },
 "nbformat": 4,
 "nbformat_minor": 5
}
