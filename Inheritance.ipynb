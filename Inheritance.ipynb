{
 "cells": [
  {
   "cell_type": "code",
   "execution_count": 2,
   "id": "a9ac7dec-7023-46e0-8e6a-edcffbdc13b9",
   "metadata": {},
   "outputs": [],
   "source": [
    "#syntax of inheritance\n",
    "\n",
    "class A:\n",
    "    pass\n",
    "\n",
    "class B:\n",
    "    pass\n",
    "\n",
    "obj = B()"
   ]
  },
  {
   "cell_type": "code",
   "execution_count": 14,
   "id": "db9264ae-05c6-4496-9729-2ba8f50af6ac",
   "metadata": {},
   "outputs": [
    {
     "name": "stdout",
     "output_type": "stream",
     "text": [
      "Hello world I am Ram.I am from Kathmandu.I am 45\n"
     ]
    }
   ],
   "source": [
    "class Data:               #parent class\n",
    "    def __init__(self):\n",
    "        self.name = \"Ram\"\n",
    "        self.age = 45\n",
    "        self.add = \"Kathmandu\"\n",
    "    def data(self):\n",
    "        print(self.name,self.age,self.add)\n",
    "\n",
    "class Info(Data):            #child class\n",
    "    def info(self):\n",
    "        print(f\"Hello world I am {self.name}.I am from {self.add}.I am {self.age}\")\n",
    "\n",
    "obj = Info()\n",
    "obj.info()"
   ]
  },
  {
   "cell_type": "code",
   "execution_count": 16,
   "id": "c0d1993c-37e4-47de-af69-cc248919695d",
   "metadata": {},
   "outputs": [
    {
     "name": "stdin",
     "output_type": "stream",
     "text": [
      "Enter name neera\n",
      "Enter age 18\n",
      "Enter address chabahil \n"
     ]
    },
    {
     "name": "stdout",
     "output_type": "stream",
     "text": [
      "Hello world I am neera.I am from chabahil .I am 18\n"
     ]
    }
   ],
   "source": [
    "class Data:               #parent class\n",
    "    def __init__(self,name,age,add):\n",
    "        self.name = name\n",
    "        self.age = age\n",
    "        self.add = add\n",
    "    def data(self):\n",
    "        print(self.name,self.age,self.add)\n",
    "\n",
    "class Info(Data):            #child class\n",
    "    def info(self):\n",
    "        print(f\"Hello world I am {self.name}.I am from {self.add}.I am {self.age}\")\n",
    "name = input(\"Enter name\")\n",
    "age = int(input(\"Enter age\"))\n",
    "add = input(\"Enter address\")\n",
    "obj = Info(name,age,add)\n",
    "obj.info()"
   ]
  },
  {
   "cell_type": "code",
   "execution_count": 10,
   "id": "cf36951c-8251-4c0f-b299-97c40cd3398e",
   "metadata": {},
   "outputs": [
    {
     "name": "stdin",
     "output_type": "stream",
     "text": [
      "Enter name neera\n",
      "Enter age 19\n",
      "Enter address ktm\n"
     ]
    },
    {
     "name": "stdout",
     "output_type": "stream",
     "text": [
      "Hello world, I am neera. I am from ktm. I am 19\n"
     ]
    }
   ],
   "source": [
    "class Data:               #parent class\n",
    "    def __init__(self, add):\n",
    "        self.add = add\n",
    "    def data(self):\n",
    "        print(self.add)\n",
    "\n",
    "class Info(Data):                #child class\n",
    "    def __init__(self, name, age, add):\n",
    "        self.name = name\n",
    "        self.age = age\n",
    "        Data.__init__(self, add)  # Corrected the call to parent class's __init__ method\n",
    "        \n",
    "    def info(self):\n",
    "        print(f\"Hello world, I am {self.name}. I am from {self.add}. I am {self.age}\")\n",
    "\n",
    "name = input(\"Enter name\")\n",
    "age = int(input(\"Enter age\"))\n",
    "add = input(\"Enter address\")\n",
    "obj = Info(name, age, add)\n",
    "obj.info()"
   ]
  },
  {
   "cell_type": "code",
   "execution_count": 12,
   "id": "f3b4cbaa-a3ec-4aed-b6b7-5bb8b1e1fdbb",
   "metadata": {},
   "outputs": [],
   "source": [
    "#multilevel inheritance\n",
    "class A:\n",
    "    pass \n",
    "class B:\n",
    "    pass \n",
    "class C:\n",
    "    pass \n",
    "\n",
    "obj = C()"
   ]
  },
  {
   "cell_type": "code",
   "execution_count": null,
   "id": "81014468-3e7f-4320-bf4a-62d45fc0c326",
   "metadata": {},
   "outputs": [],
   "source": [
    "#multiple inheritance \n",
    "class A:\n",
    "    pass\n",
    "class B:\n",
    "    pass\n",
    "class C(A,B):\n",
    "    pass\n",
    "\n",
    "obj = C()"
   ]
  },
  {
   "cell_type": "code",
   "execution_count": 24,
   "id": "a8358438-b2dc-4f93-a0bf-aee303335ef6",
   "metadata": {},
   "outputs": [
    {
     "ename": "AttributeError",
     "evalue": "'Info' object has no attribute 'age'",
     "output_type": "error",
     "traceback": [
      "\u001b[1;31m---------------------------------------------------------------------------\u001b[0m",
      "\u001b[1;31mAttributeError\u001b[0m                            Traceback (most recent call last)",
      "Cell \u001b[1;32mIn[24], line 14\u001b[0m\n\u001b[0;32m     11\u001b[0m         \u001b[38;5;28mprint\u001b[39m(\u001b[38;5;124mf\u001b[39m\u001b[38;5;124m\"\u001b[39m\u001b[38;5;124mHello world I am \u001b[39m\u001b[38;5;132;01m{\u001b[39;00m\u001b[38;5;28mself\u001b[39m\u001b[38;5;241m.\u001b[39mname\u001b[38;5;132;01m}\u001b[39;00m\u001b[38;5;124m.I am from \u001b[39m\u001b[38;5;132;01m{\u001b[39;00m\u001b[38;5;28mself\u001b[39m\u001b[38;5;241m.\u001b[39madd\u001b[38;5;132;01m}\u001b[39;00m\u001b[38;5;124m.I am \u001b[39m\u001b[38;5;132;01m{\u001b[39;00m\u001b[38;5;28mself\u001b[39m\u001b[38;5;241m.\u001b[39mage\u001b[38;5;132;01m}\u001b[39;00m\u001b[38;5;124m\"\u001b[39m)\n\u001b[0;32m     13\u001b[0m obj \u001b[38;5;241m=\u001b[39m Info()\n\u001b[1;32m---> 14\u001b[0m obj\u001b[38;5;241m.\u001b[39minfo()\n\u001b[0;32m     15\u001b[0m \u001b[38;5;28mprint\u001b[39m(obj\u001b[38;5;241m.\u001b[39mname)\n",
      "Cell \u001b[1;32mIn[24], line 11\u001b[0m, in \u001b[0;36mInfo.info\u001b[1;34m(self)\u001b[0m\n\u001b[0;32m     10\u001b[0m \u001b[38;5;28;01mdef\u001b[39;00m \u001b[38;5;21minfo\u001b[39m(\u001b[38;5;28mself\u001b[39m):\n\u001b[1;32m---> 11\u001b[0m     \u001b[38;5;28mprint\u001b[39m(\u001b[38;5;124mf\u001b[39m\u001b[38;5;124m\"\u001b[39m\u001b[38;5;124mHello world I am \u001b[39m\u001b[38;5;132;01m{\u001b[39;00m\u001b[38;5;28mself\u001b[39m\u001b[38;5;241m.\u001b[39mname\u001b[38;5;132;01m}\u001b[39;00m\u001b[38;5;124m.I am from \u001b[39m\u001b[38;5;132;01m{\u001b[39;00m\u001b[38;5;28mself\u001b[39m\u001b[38;5;241m.\u001b[39madd\u001b[38;5;132;01m}\u001b[39;00m\u001b[38;5;124m.I am \u001b[39m\u001b[38;5;132;01m{\u001b[39;00m\u001b[38;5;28mself\u001b[39m\u001b[38;5;241m.\u001b[39mage\u001b[38;5;132;01m}\u001b[39;00m\u001b[38;5;124m\"\u001b[39m)\n",
      "\u001b[1;31mAttributeError\u001b[0m: 'Info' object has no attribute 'age'"
     ]
    }
   ],
   "source": [
    "class Data:               #parent class\n",
    "    def __init__(self):\n",
    "        self.name = \"Ram\"              #publoc member \n",
    "        self._age = 45                 #protected member\n",
    "        self.add = \"Kathmandu\"\n",
    "    def data(self):\n",
    "        print(self.name,self.age,self.add)\n",
    "\n",
    "class Info(Data):            #child class\n",
    "    def info(self):\n",
    "        print(f\"Hello world I am {self.name}.I am from {self.add}.I am {self.age}\")\n",
    "\n",
    "obj = Info()\n",
    "obj.info()\n",
    "print(obj.name)"
   ]
  },
  {
   "cell_type": "code",
   "execution_count": null,
   "id": "cd321dd3-21cc-4127-85aa-f7185b0e9c75",
   "metadata": {},
   "outputs": [],
   "source": []
  },
  {
   "cell_type": "code",
   "execution_count": 26,
   "id": "3aa6c420-eb61-4c74-adc3-e2878bd377da",
   "metadata": {},
   "outputs": [
    {
     "name": "stdout",
     "output_type": "stream",
     "text": [
      "Hello world I am Ram. I am from Kathmandu. I am 45\n",
      "Ram\n"
     ]
    }
   ],
   "source": [
    "class Data:               #parent class\n",
    "    def __init__(self):\n",
    "        self.name = \"Ram\"              #public member \n",
    "        self._age = 45                 #protected member\n",
    "        self.add = \"Kathmandu\"\n",
    "    def data(self):\n",
    "        print(self.name, self._age, self.add)\n",
    "\n",
    "class Info(Data):            #child class\n",
    "    def info(self):\n",
    "        print(f\"Hello world I am {self.name}. I am from {self.add}. I am {self._age}\")\n",
    "\n",
    "obj = Info()\n",
    "obj.info()\n",
    "print(obj.name)"
   ]
  },
  {
   "cell_type": "code",
   "execution_count": 32,
   "id": "248d9fcf-255e-4685-b176-bf85863f4d5e",
   "metadata": {},
   "outputs": [
    {
     "ename": "AttributeError",
     "evalue": "'Info' object has no attribute 'add'",
     "output_type": "error",
     "traceback": [
      "\u001b[1;31m---------------------------------------------------------------------------\u001b[0m",
      "\u001b[1;31mAttributeError\u001b[0m                            Traceback (most recent call last)",
      "Cell \u001b[1;32mIn[32], line 14\u001b[0m\n\u001b[0;32m     11\u001b[0m         \u001b[38;5;28mprint\u001b[39m(\u001b[38;5;124mf\u001b[39m\u001b[38;5;124m\"\u001b[39m\u001b[38;5;124mHello world I am \u001b[39m\u001b[38;5;132;01m{\u001b[39;00m\u001b[38;5;28mself\u001b[39m\u001b[38;5;241m.\u001b[39mname\u001b[38;5;132;01m}\u001b[39;00m\u001b[38;5;124m. I am from \u001b[39m\u001b[38;5;132;01m{\u001b[39;00m\u001b[38;5;28mself\u001b[39m\u001b[38;5;241m.\u001b[39madd\u001b[38;5;132;01m}\u001b[39;00m\u001b[38;5;124m. I am \u001b[39m\u001b[38;5;132;01m{\u001b[39;00m\u001b[38;5;28mself\u001b[39m\u001b[38;5;241m.\u001b[39m_age\u001b[38;5;132;01m}\u001b[39;00m\u001b[38;5;124m\"\u001b[39m)\n\u001b[0;32m     13\u001b[0m obj \u001b[38;5;241m=\u001b[39m Info()\n\u001b[1;32m---> 14\u001b[0m obj\u001b[38;5;241m.\u001b[39minfo()\n\u001b[0;32m     15\u001b[0m \u001b[38;5;28mprint\u001b[39m(obj\u001b[38;5;241m.\u001b[39mname)\n",
      "Cell \u001b[1;32mIn[32], line 11\u001b[0m, in \u001b[0;36mInfo.info\u001b[1;34m(self)\u001b[0m\n\u001b[0;32m     10\u001b[0m \u001b[38;5;28;01mdef\u001b[39;00m \u001b[38;5;21minfo\u001b[39m(\u001b[38;5;28mself\u001b[39m):\n\u001b[1;32m---> 11\u001b[0m     \u001b[38;5;28mprint\u001b[39m(\u001b[38;5;124mf\u001b[39m\u001b[38;5;124m\"\u001b[39m\u001b[38;5;124mHello world I am \u001b[39m\u001b[38;5;132;01m{\u001b[39;00m\u001b[38;5;28mself\u001b[39m\u001b[38;5;241m.\u001b[39mname\u001b[38;5;132;01m}\u001b[39;00m\u001b[38;5;124m. I am from \u001b[39m\u001b[38;5;132;01m{\u001b[39;00m\u001b[38;5;28mself\u001b[39m\u001b[38;5;241m.\u001b[39madd\u001b[38;5;132;01m}\u001b[39;00m\u001b[38;5;124m. I am \u001b[39m\u001b[38;5;132;01m{\u001b[39;00m\u001b[38;5;28mself\u001b[39m\u001b[38;5;241m.\u001b[39m_age\u001b[38;5;132;01m}\u001b[39;00m\u001b[38;5;124m\"\u001b[39m)\n",
      "\u001b[1;31mAttributeError\u001b[0m: 'Info' object has no attribute 'add'"
     ]
    }
   ],
   "source": [
    "class Data:               #parent class\n",
    "    def __init__(self):\n",
    "        self.name = \"Ram\"              #public member \n",
    "        self._age = 45                 #protected member\n",
    "        self._add = \"Kathmandu\"        #private \n",
    "    def data(self):\n",
    "        print(self.name, self._age, self.add)\n",
    "\n",
    "class Info(Data):            #child class\n",
    "    def info(self):\n",
    "        print(f\"Hello world I am {self.name}. I am from {self.add}. I am {self._age}\")\n",
    "\n",
    "obj = Info()\n",
    "obj.info()\n",
    "print(obj.name)"
   ]
  },
  {
   "cell_type": "code",
   "execution_count": null,
   "id": "fa7ed212-ba55-487f-9188-23bebb3952db",
   "metadata": {},
   "outputs": [],
   "source": []
  }
 ],
 "metadata": {
  "kernelspec": {
   "display_name": "Python 3 (ipykernel)",
   "language": "python",
   "name": "python3"
  },
  "language_info": {
   "codemirror_mode": {
    "name": "ipython",
    "version": 3
   },
   "file_extension": ".py",
   "mimetype": "text/x-python",
   "name": "python",
   "nbconvert_exporter": "python",
   "pygments_lexer": "ipython3",
   "version": "3.11.7"
  }
 },
 "nbformat": 4,
 "nbformat_minor": 5
}
