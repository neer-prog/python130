{
 "cells": [
  {
   "cell_type": "code",
   "execution_count": 1,
   "id": "a0fe1a7b",
   "metadata": {},
   "outputs": [],
   "source": [
    "# file = open(<file name>, <mode>)\n",
    "# file.close()\n",
    "\n",
    "# with open(<file name>, <mode>) as file:\n",
    "#     <operations>"
   ]
  },
  {
   "cell_type": "code",
   "execution_count": 2,
   "id": "d37e589c",
   "metadata": {},
   "outputs": [],
   "source": [
    "# MODES\n",
    "# create mode > x\n",
    "# read mode > r \n",
    "# write mode w = deltes the previous data and gets replaced by the new ones\n",
    "# append mode > a  = sort of adds the newer data instead of replacing them"
   ]
  },
  {
   "cell_type": "code",
   "execution_count": 4,
   "id": "04b890c6",
   "metadata": {},
   "outputs": [
    {
     "ename": "FileExistsError",
     "evalue": "[Errno 17] File exists: 'data.txt'",
     "output_type": "error",
     "traceback": [
      "\u001b[1;31m---------------------------------------------------------------------------\u001b[0m",
      "\u001b[1;31mFileExistsError\u001b[0m                           Traceback (most recent call last)",
      "Cell \u001b[1;32mIn[4], line 1\u001b[0m\n\u001b[1;32m----> 1\u001b[0m file \u001b[38;5;241m=\u001b[39m \u001b[38;5;28mopen\u001b[39m(\u001b[38;5;124m'\u001b[39m\u001b[38;5;124mdata.txt\u001b[39m\u001b[38;5;124m'\u001b[39m,\u001b[38;5;124m'\u001b[39m\u001b[38;5;124mx\u001b[39m\u001b[38;5;124m'\u001b[39m)\n\u001b[0;32m      2\u001b[0m file\u001b[38;5;241m.\u001b[39mclose()\n",
      "File \u001b[1;32m~\\anaconda3\\Lib\\site-packages\\IPython\\core\\interactiveshell.py:310\u001b[0m, in \u001b[0;36m_modified_open\u001b[1;34m(file, *args, **kwargs)\u001b[0m\n\u001b[0;32m    303\u001b[0m \u001b[38;5;28;01mif\u001b[39;00m file \u001b[38;5;129;01min\u001b[39;00m {\u001b[38;5;241m0\u001b[39m, \u001b[38;5;241m1\u001b[39m, \u001b[38;5;241m2\u001b[39m}:\n\u001b[0;32m    304\u001b[0m     \u001b[38;5;28;01mraise\u001b[39;00m \u001b[38;5;167;01mValueError\u001b[39;00m(\n\u001b[0;32m    305\u001b[0m         \u001b[38;5;124mf\u001b[39m\u001b[38;5;124m\"\u001b[39m\u001b[38;5;124mIPython won\u001b[39m\u001b[38;5;124m'\u001b[39m\u001b[38;5;124mt let you open fd=\u001b[39m\u001b[38;5;132;01m{\u001b[39;00mfile\u001b[38;5;132;01m}\u001b[39;00m\u001b[38;5;124m by default \u001b[39m\u001b[38;5;124m\"\u001b[39m\n\u001b[0;32m    306\u001b[0m         \u001b[38;5;124m\"\u001b[39m\u001b[38;5;124mas it is likely to crash IPython. If you know what you are doing, \u001b[39m\u001b[38;5;124m\"\u001b[39m\n\u001b[0;32m    307\u001b[0m         \u001b[38;5;124m\"\u001b[39m\u001b[38;5;124myou can use builtins\u001b[39m\u001b[38;5;124m'\u001b[39m\u001b[38;5;124m open.\u001b[39m\u001b[38;5;124m\"\u001b[39m\n\u001b[0;32m    308\u001b[0m     )\n\u001b[1;32m--> 310\u001b[0m \u001b[38;5;28;01mreturn\u001b[39;00m io_open(file, \u001b[38;5;241m*\u001b[39margs, \u001b[38;5;241m*\u001b[39m\u001b[38;5;241m*\u001b[39mkwargs)\n",
      "\u001b[1;31mFileExistsError\u001b[0m: [Errno 17] File exists: 'data.txt'"
     ]
    }
   ],
   "source": [
    "#create file\n",
    "file = open('data.txt','x')\n",
    "file.close()"
   ]
  },
  {
   "cell_type": "code",
   "execution_count": 6,
   "id": "5d69f29b",
   "metadata": {},
   "outputs": [
    {
     "name": "stdout",
     "output_type": "stream",
     "text": [
      "1. Hello world\n",
      "2. Hello world\n",
      "3. Hello world\n",
      "4. Hello world\n",
      "5. Hello world\n"
     ]
    }
   ],
   "source": [
    "# read file\n",
    "file = open('data.txt','r')\n",
    "x = file.read()\n",
    "print(x)\n",
    "file.close()"
   ]
  },
  {
   "cell_type": "code",
   "execution_count": 9,
   "id": "c440df25",
   "metadata": {},
   "outputs": [
    {
     "name": "stdout",
     "output_type": "stream",
     "text": [
      "['1. Hello world', '2. Hello world', '3. Hello world', '4. Hello world', '5. Hello world']\n"
     ]
    }
   ],
   "source": [
    "list_data = x.split('\\n')\n",
    "print(list_data)"
   ]
  },
  {
   "cell_type": "code",
   "execution_count": 11,
   "id": "c9b9eee8",
   "metadata": {},
   "outputs": [],
   "source": [
    "file = open('datas.txt','w')\n",
    "file.write('Hello world')\n",
    "# print(x)\n",
    "file.close()"
   ]
  },
  {
   "cell_type": "code",
   "execution_count": 15,
   "id": "e290a911",
   "metadata": {},
   "outputs": [
    {
     "name": "stdout",
     "output_type": "stream",
     "text": [
      "Enter n =2\n",
      "Enter product namerice \n",
      "Enter price =90\n",
      "Enter quantity =2\n",
      "Enter product namelaptop \n",
      "Enter price =90000\n",
      "Enter quantity =1\n",
      "rice  90 2 180\n",
      "laptop  90000 1 90000\n",
      "\n"
     ]
    }
   ],
   "source": [
    "#APPEND > one by one add the data\n",
    "info = \"\"\n",
    "n = int(input(\"Enter n =\"))\n",
    "for i in range (n):\n",
    "    name = input(\"Enter product name\")\n",
    "    price = int(input('Enter price ='))\n",
    "    qty = int(input('Enter quantity ='))\n",
    "    total = price * qty\n",
    "    info = info + f\"{name} {price} {qty} {total}\\n\"\n",
    "print(info)\n",
    "\n",
    "\n",
    "#write on data\n",
    "file = open('bill1.txt','a')\n",
    "file.write(info)\n",
    "#print data\n",
    "file.close()"
   ]
  },
  {
   "cell_type": "code",
   "execution_count": 1,
   "id": "7542a9aa",
   "metadata": {},
   "outputs": [
    {
     "name": "stdout",
     "output_type": "stream",
     "text": [
      "Enter n =2\n",
      "Enter product nameapple \n",
      "Enter price =100\n",
      "Enter quantity =2\n",
      "Enter product nameorange\n",
      "Enter price =100\n",
      "Enter quantity =2\n",
      "apple , 100, 2, 200\n",
      "orange, 100, 2, 200\n",
      "\n"
     ]
    }
   ],
   "source": [
    "#APPEND > one by one add the data\n",
    "info = \"\"\n",
    "n = int(input(\"Enter n =\"))\n",
    "for i in range (n):\n",
    "    name = input(\"Enter product name\")\n",
    "    price = int(input('Enter price ='))\n",
    "    qty = int(input('Enter quantity ='))\n",
    "    total = price * qty\n",
    "    info = info + f\"{name}, {price}, {qty}, {total}\\n\"\n",
    "print(info)\n",
    "\n",
    "\n",
    "#write on data\n",
    "file = open('bill1.csv','a')   #csv is an excel file\n",
    "file.write(info)\n",
    "#print data\n",
    "file.close()"
   ]
  },
  {
   "cell_type": "code",
   "execution_count": 2,
   "id": "cbd64fda",
   "metadata": {},
   "outputs": [
    {
     "data": {
      "text/plain": [
       "'C:\\\\Users\\\\Asus\\\\python_class3pm'"
      ]
     },
     "execution_count": 2,
     "metadata": {},
     "output_type": "execute_result"
    }
   ],
   "source": [
    "pwd"
   ]
  },
  {
   "cell_type": "code",
   "execution_count": 7,
   "id": "fd0e694a",
   "metadata": {},
   "outputs": [],
   "source": [
    "file = open('bill1.csv','r')\n",
    "data = file.read()\n",
    "file.close()"
   ]
  },
  {
   "cell_type": "code",
   "execution_count": 8,
   "id": "369cdc72",
   "metadata": {},
   "outputs": [
    {
     "data": {
      "text/plain": [
       "['apple , 20, 3, 60',\n",
       " 'banana, 50, 2, 100',\n",
       " 'orange, 70, 2, 140',\n",
       " 'mango, 30, 12, 360',\n",
       " 'apple , 100, 2, 200',\n",
       " 'orange, 100, 2, 200']"
      ]
     },
     "execution_count": 8,
     "metadata": {},
     "output_type": "execute_result"
    }
   ],
   "source": [
    "l = data.split('\\n')[0:-1]\n",
    "l\n"
   ]
  },
  {
   "cell_type": "code",
   "execution_count": 9,
   "id": "77568472",
   "metadata": {},
   "outputs": [],
   "source": [
    "final_data = []\n",
    "for i in l:\n",
    "    final_data.append(i.split(','))"
   ]
  },
  {
   "cell_type": "code",
   "execution_count": 10,
   "id": "6dd33ad8",
   "metadata": {},
   "outputs": [
    {
     "data": {
      "text/plain": [
       "[['apple ', ' 20', ' 3', ' 60'],\n",
       " ['banana', ' 50', ' 2', ' 100'],\n",
       " ['orange', ' 70', ' 2', ' 140'],\n",
       " ['mango', ' 30', ' 12', ' 360'],\n",
       " ['apple ', ' 100', ' 2', ' 200'],\n",
       " ['orange', ' 100', ' 2', ' 200']]"
      ]
     },
     "execution_count": 10,
     "metadata": {},
     "output_type": "execute_result"
    }
   ],
   "source": [
    "final_data"
   ]
  },
  {
   "cell_type": "code",
   "execution_count": 11,
   "id": "f759ae8e",
   "metadata": {},
   "outputs": [],
   "source": [
    "import csv\n",
    "file = open('bill.csv','w')\n",
    "x = csv.writer(file)\n",
    "x.writerows(final_data)\n",
    "file.close()"
   ]
  },
  {
   "cell_type": "code",
   "execution_count": null,
   "id": "c7ea3221",
   "metadata": {},
   "outputs": [],
   "source": []
  }
 ],
 "metadata": {
  "kernelspec": {
   "display_name": "Python 3 (ipykernel)",
   "language": "python",
   "name": "python3"
  },
  "language_info": {
   "codemirror_mode": {
    "name": "ipython",
    "version": 3
   },
   "file_extension": ".py",
   "mimetype": "text/x-python",
   "name": "python",
   "nbconvert_exporter": "python",
   "pygments_lexer": "ipython3",
   "version": "3.11.7"
  }
 },
 "nbformat": 4,
 "nbformat_minor": 5
}
