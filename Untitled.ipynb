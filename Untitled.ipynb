{
 "cells": [
  {
   "cell_type": "code",
   "execution_count": 7,
   "id": "17144085",
   "metadata": {},
   "outputs": [
    {
     "name": "stdout",
     "output_type": "stream",
     "text": [
      "Enter physics marks100\n",
      "Enter chemistry marks100\n",
      "Enter maths marks100\n",
      "Enter english marks100\n",
      "Enter nepali marks100\n",
      "the total marks =  500\n",
      "the per =  100.0\n"
     ]
    }
   ],
   "source": [
    "physics = int(input(\"Enter physics marks\"))\n",
    "chemistry = int(input(\"Enter chemistry marks\"))\n",
    "math = int(input(\"Enter maths marks\"))\n",
    "english = int(input(\"Enter english marks\"))\n",
    "nepali = int(input(\"Enter nepali marks\"))\n",
    "\n",
    "total = physics + chemistry + math + english + nepali\n",
    "\n",
    "per = total/5\n",
    "\n",
    "print(\"the total marks = \",total)\n",
    "print(\"the per = \",per)"
   ]
  },
  {
   "cell_type": "code",
   "execution_count": 6,
   "id": "2cd63d0d",
   "metadata": {},
   "outputs": [
    {
     "name": "stdout",
     "output_type": "stream",
     "text": [
      "Enter name =Neera \n",
      "Enter age18 \n",
      "Enter add =chHSDUDFS\n",
      "Hello world I amNeera I am fromchHSDUDFSI am18\n"
     ]
    }
   ],
   "source": [
    "name = input(\"Enter name =\")\n",
    "age = int(input(\"Enter age\"))\n",
    "add = input(\"Enter add =\")\n",
    "\n",
    "info = \"Hello world I am\" + name + \"I am from\" + add + \"I am\" + str(age)\n",
    "print (info)"
   ]
  },
  {
   "cell_type": "code",
   "execution_count": 4,
   "id": "1cfd72f8",
   "metadata": {},
   "outputs": [
    {
     "name": "stdout",
     "output_type": "stream",
     "text": [
      "1020\n"
     ]
    }
   ],
   "source": [
    "a = 10 #int is converted to string\n",
    "b = \"20\"\n",
    "print(str(a)+b)# \"\""
   ]
  },
  {
   "cell_type": "code",
   "execution_count": null,
   "id": "cdc924a3",
   "metadata": {},
   "outputs": [],
   "source": [
    "#int() float() str() bool()"
   ]
  },
  {
   "cell_type": "code",
   "execution_count": 5,
   "id": "dfc33145",
   "metadata": {},
   "outputs": [
    {
     "name": "stdout",
     "output_type": "stream",
     "text": [
      "10\n",
      "10.0\n"
     ]
    }
   ],
   "source": [
    "#data type conversion \n",
    "a = 10\n",
    "b = str(a)\n",
    "c = float(a)\n",
    "print(b)\n",
    "print(c)\n"
   ]
  },
  {
   "cell_type": "code",
   "execution_count": 8,
   "id": "244092d5",
   "metadata": {},
   "outputs": [
    {
     "name": "stdout",
     "output_type": "stream",
     "text": [
      "10\n"
     ]
    },
    {
     "data": {
      "text/plain": [
       "'10.5'"
      ]
     },
     "execution_count": 8,
     "metadata": {},
     "output_type": "execute_result"
    }
   ],
   "source": [
    "a = 10.5\n",
    "b = int(a)\n",
    "c = str(a)\n",
    "print(b)\n",
    "c"
   ]
  },
  {
   "cell_type": "code",
   "execution_count": 9,
   "id": "ffdf962e",
   "metadata": {},
   "outputs": [
    {
     "name": "stdout",
     "output_type": "stream",
     "text": [
      "10\n"
     ]
    }
   ],
   "source": [
    "a = \"10\"\n",
    "b = int(a)\n",
    "print(b)"
   ]
  },
  {
   "cell_type": "code",
   "execution_count": 10,
   "id": "d44185f5",
   "metadata": {},
   "outputs": [
    {
     "data": {
      "text/plain": [
       "True"
      ]
     },
     "execution_count": 10,
     "metadata": {},
     "output_type": "execute_result"
    }
   ],
   "source": [
    "#converting to boolean (anything except 0 is considered true)\n",
    "a = 10\n",
    "b = bool(a)\n",
    "b"
   ]
  },
  {
   "cell_type": "code",
   "execution_count": 11,
   "id": "47a5d5b1",
   "metadata": {},
   "outputs": [
    {
     "data": {
      "text/plain": [
       "False"
      ]
     },
     "execution_count": 11,
     "metadata": {},
     "output_type": "execute_result"
    }
   ],
   "source": [
    "a = \"\" #bc theres nothing written\n",
    "b = bool(a)\n",
    "b"
   ]
  },
  {
   "cell_type": "code",
   "execution_count": null,
   "id": "c7699fff",
   "metadata": {},
   "outputs": [],
   "source": []
  }
 ],
 "metadata": {
  "kernelspec": {
   "display_name": "Python 3 (ipykernel)",
   "language": "python",
   "name": "python3"
  },
  "language_info": {
   "codemirror_mode": {
    "name": "ipython",
    "version": 3
   },
   "file_extension": ".py",
   "mimetype": "text/x-python",
   "name": "python",
   "nbconvert_exporter": "python",
   "pygments_lexer": "ipython3",
   "version": "3.11.7"
  }
 },
 "nbformat": 4,
 "nbformat_minor": 5
}
