{
 "cells": [
  {
   "cell_type": "code",
   "execution_count": 1,
   "id": "faeb04d5",
   "metadata": {},
   "outputs": [],
   "source": [
    "#or\n",
    "#and"
   ]
  },
  {
   "cell_type": "code",
   "execution_count": null,
   "id": "6160cec7",
   "metadata": {},
   "outputs": [],
   "source": []
  },
  {
   "cell_type": "code",
   "execution_count": 3,
   "id": "56fb7172",
   "metadata": {},
   "outputs": [
    {
     "name": "stdout",
     "output_type": "stream",
     "text": [
      "True\n",
      "True\n",
      "True\n",
      "False\n"
     ]
    }
   ],
   "source": [
    "#or \n",
    "print(True or True)\n",
    "print(True or False)\n",
    "print(False or True)\n",
    "print(False or False)"
   ]
  },
  {
   "cell_type": "code",
   "execution_count": 4,
   "id": "562048bb",
   "metadata": {},
   "outputs": [
    {
     "name": "stdout",
     "output_type": "stream",
     "text": [
      "True\n",
      "False\n",
      "False\n",
      "False\n"
     ]
    }
   ],
   "source": [
    "#and\n",
    "print(True and True)\n",
    "print(True and False)\n",
    "print(False and True)\n",
    "print(False and False)\n"
   ]
  },
  {
   "cell_type": "code",
   "execution_count": null,
   "id": "b8b04ed3",
   "metadata": {},
   "outputs": [],
   "source": [
    "#and &\n",
    "\n",
    "a = int(input(\"Enter a = \"))\n",
    "b = int(input(\"Enter b = \"))\n",
    "o = input(\" Enter + or - or * or / \")\n",
    "if o == '+':\n",
    "    print(a+b)\n",
    "elif o == '-':\n",
    "    print(a-b)\n",
    "elif o == '*':\n",
    "    print(a*b)\n",
    "elif o == '/' and b!=0: #and operator is used\n",
    "    print(a/b)\n",
    "elif o == '/' and b==0: #and oeprator is used\n",
    "    print(\"The value of b cannot be zero\")\n",
    "else:\n",
    "    print(\"Invalid operator\")\n"
   ]
  },
  {
   "cell_type": "code",
   "execution_count": 6,
   "id": "e4addd3b",
   "metadata": {
    "scrolled": true
   },
   "outputs": [
    {
     "name": "stdout",
     "output_type": "stream",
     "text": [
      "Enter physics marks100\n",
      "Enter chemistry marks100\n",
      "Enter maths marks100\n",
      "Enter english marks100\n",
      "Enter nepali marks100\n",
      "Your total =  500\n",
      "Per =  100.0\n",
      "Grade =  A\n"
     ]
    }
   ],
   "source": [
    "physics = int(input(\"Enter physics marks\"))\n",
    "chemistry = int(input(\"Enter chemistry marks\"))\n",
    "maths = int(input(\"Enter maths marks\"))\n",
    "english = int(input(\"Enter english marks\"))\n",
    "nepali = int(input(\"Enter nepali marks\"))\n",
    "\n",
    "total = physics + chemistry + maths + english + nepali\n",
    "per = total/5\n",
    "\n",
    "if per > 80 or per ==80:\n",
    "    grade = 'A'\n",
    "elif per > 60 or per ==60:\n",
    "    grade = 'B'\n",
    "elif per > 45 or per ==45:\n",
    "    grade = 'C'\n",
    "else:\n",
    "    grade = 'F'\n",
    "    \n",
    "print(\"Your total = \",total )\n",
    "print(\"Per = \",per)\n",
    "print(\"Grade = \",grade)"
   ]
  },
  {
   "cell_type": "code",
   "execution_count": null,
   "id": "d8ffbaea",
   "metadata": {},
   "outputs": [],
   "source": [
    "#nested ifelse statements\n",
    "# if <conditon>:\n",
    "#     if <condition>:\n",
    "#         <operations>\n",
    "#         else:\n",
    "#             <operation>\n",
    "# else:\n",
    "#     <operation>\n",
    "\n",
    "#EXAMPLE:\n",
    "\n",
    "\n",
    "        \n"
   ]
  },
  {
   "cell_type": "code",
   "execution_count": 12,
   "id": "a0724f54",
   "metadata": {},
   "outputs": [
    {
     "name": "stdout",
     "output_type": "stream",
     "text": [
      "Enter physics marks20\n",
      "Enter chemistry marks100\n",
      "Enter maths marks100\n",
      "Enter english marks100\n",
      "Enter nepali marks100\n",
      "You have failed\n"
     ]
    }
   ],
   "source": [
    "physics = int(input(\"Enter physics marks\"))\n",
    "chemistry = int(input(\"Enter chemistry marks\"))\n",
    "maths = int(input(\"Enter maths marks\"))\n",
    "english = int(input(\"Enter english marks\"))\n",
    "nepali = int(input(\"Enter nepali marks\"))\n",
    "\n",
    "if physics>=32 and chemistry>=32 and maths>=32 and english>=32 and nepali>=32:\n",
    "\n",
    "    total = physics + chemistry + maths + english + nepali\n",
    "    per = total/5\n",
    "\n",
    "    if per >= 80: \n",
    "        grade = 'A'\n",
    "    elif per >= 60:\n",
    "        grade = 'B'\n",
    "    elif per >= 45:\n",
    "        grade = 'C'\n",
    "    else:\n",
    "        grade = 'F'\n",
    "\n",
    "    print(\"Your total = \",total )\n",
    "    print(\"Per = \",per)\n",
    "    print(\"Grade = \",grade)\n",
    "    \n",
    "else:\n",
    "    print(\"You have failed\")"
   ]
  },
  {
   "cell_type": "markdown",
   "id": "f211086f",
   "metadata": {},
   "source": []
  },
  {
   "cell_type": "code",
   "execution_count": 1,
   "id": "8bdf0c88",
   "metadata": {
    "scrolled": true
   },
   "outputs": [
    {
     "name": "stdout",
     "output_type": "stream",
     "text": [
      "hellowrr\n",
      "wrr\n"
     ]
    }
   ],
   "source": [
    "a = input(\"hello\")\n",
    "prin(a)"
   ]
  },
  {
   "cell_type": "code",
   "execution_count": null,
   "id": "b200a8ae",
   "metadata": {},
   "outputs": [],
   "source": [
    "#LOOP\n",
    "#TYPES:\n",
    "# 1) for loop \n",
    "# 2) while loop"
   ]
  },
  {
   "cell_type": "code",
   "execution_count": null,
   "id": "566b704b",
   "metadata": {},
   "outputs": [],
   "source": [
    "# for loop"
   ]
  },
  {
   "cell_type": "raw",
   "id": "6c1fbc9f",
   "metadata": {},
   "source": [
    "\n"
   ]
  },
  {
   "cell_type": "code",
   "execution_count": 1,
   "id": "532e11e6",
   "metadata": {},
   "outputs": [
    {
     "name": "stdout",
     "output_type": "stream",
     "text": [
      "1 Hello World\n",
      "2 Hello World\n",
      "3 Hello World\n",
      "4 Hello World\n"
     ]
    }
   ],
   "source": [
    "for i in range(1,5):\n",
    "    print(i,\"Hello World\")"
   ]
  },
  {
   "cell_type": "code",
   "execution_count": 2,
   "id": "9f9572d4",
   "metadata": {},
   "outputs": [
    {
     "name": "stdout",
     "output_type": "stream",
     "text": [
      "0 Hello world\n",
      "2 Hello world\n",
      "4 Hello world\n"
     ]
    }
   ],
   "source": [
    "for i in range(0,5,2):  #starting from 0 increment from 2\n",
    "    print(i,\"Hello world\")"
   ]
  },
  {
   "cell_type": "code",
   "execution_count": null,
   "id": "2874ab35",
   "metadata": {},
   "outputs": [],
   "source": [
    "n = int(input(\"Enter value of n\"))\n",
    "for i in range(1,11):\n",
    "    print(n*i)"
   ]
  },
  {
   "cell_type": "code",
   "execution_count": 1,
   "id": "56f98424",
   "metadata": {},
   "outputs": [
    {
     "name": "stdout",
     "output_type": "stream",
     "text": [
      "Enter value of n6\n",
      "6 * 1 = 6\n",
      "6 * 2 = 12\n",
      "6 * 3 = 18\n",
      "6 * 4 = 24\n",
      "6 * 5 = 30\n",
      "6 * 6 = 36\n",
      "6 * 7 = 42\n",
      "6 * 8 = 48\n",
      "6 * 9 = 54\n",
      "6 * 10 = 60\n"
     ]
    }
   ],
   "source": [
    "n = int(input(\"Enter value of n\"))\n",
    "for i in range(1,11):\n",
    "    print(n,\"*\",i,\"=\",n*i)"
   ]
  },
  {
   "cell_type": "code",
   "execution_count": 2,
   "id": "d9f58f02",
   "metadata": {},
   "outputs": [
    {
     "name": "stdout",
     "output_type": "stream",
     "text": [
      "Enter x = 34\n",
      "you entered 34\n",
      "Enter x = 90\n",
      "you entered 90\n",
      "Enter x = 7\n",
      "you entered 7\n",
      "Enter x = 8\n",
      "you entered 8\n",
      "Enter x = 9\n",
      "you entered 9\n"
     ]
    }
   ],
   "source": [
    "for i in range (5):\n",
    "    x = input(\"Enter x = \")\n",
    "    print(\"you entered\",x)"
   ]
  },
  {
   "cell_type": "code",
   "execution_count": 4,
   "id": "300e4f70",
   "metadata": {},
   "outputs": [
    {
     "name": "stdout",
     "output_type": "stream",
     "text": [
      "Enter x =45\n",
      "Enter x =45\n",
      "Enter x =45\n",
      "Enter x =45\n",
      "Enter x =54\n",
      "234\n"
     ]
    }
   ],
   "source": [
    "a = 0\n",
    "for i in range(5):\n",
    "    x = int(input(\"Enter x =\"))\n",
    "    a = a + x\n",
    "\n",
    "print(a)"
   ]
  },
  {
   "cell_type": "code",
   "execution_count": 1,
   "id": "e6d40045",
   "metadata": {},
   "outputs": [
    {
     "name": "stdout",
     "output_type": "stream",
     "text": [
      "Enter x =neera\n",
      "Enter x =eva \n",
      "Enter x =anugya \n",
      "Enter x =shelly\n",
      "Enter x =ojaswi\n",
      "neera\n",
      "eva \n",
      "anugya \n",
      "shelly\n",
      "ojaswi\n",
      "\n"
     ]
    }
   ],
   "source": [
    "a = \"\"   #str()\n",
    "for i in range(5):\n",
    "    x = input(\"Enter x =\")\n",
    "    a = a + x + \"\\n\"\n",
    "\n",
    "print(a)"
   ]
  },
  {
   "cell_type": "code",
   "execution_count": 5,
   "id": "2aa45767",
   "metadata": {},
   "outputs": [
    {
     "name": "stdout",
     "output_type": "stream",
     "text": [
      "Enter Name =nur\n",
      "Enter Age =rjng\n",
      "Enter Address =rgj\n",
      "Enter Name =rgbj\n",
      "Enter Age =rjf\n",
      "Enter Address =trnj\n",
      "Enter Name =runj\n",
      "Enter Age =runj\n",
      "Enter Address =rtnj\n",
      "nur rjng rgj\n",
      "rgbj rjf trnj\n",
      "runj runj rtnj\n",
      "\n"
     ]
    }
   ],
   "source": [
    "a = \"\"   #str()\n",
    "for i in range(3):\n",
    "    Name = input(\"Enter Name =\")\n",
    "    Age = input(\"Enter Age =\")\n",
    "    Address = input(\"Enter Address =\")\n",
    "    \n",
    "    a = a +  Name +\" \"+ str(Age) +\" \" + Address + \"\\n\"\n",
    "print(a)"
   ]
  },
  {
   "cell_type": "code",
   "execution_count": null,
   "id": "edaa668a",
   "metadata": {},
   "outputs": [],
   "source": [
    "#range(1,5) 1 2 3 4 "
   ]
  },
  {
   "cell_type": "code",
   "execution_count": 12,
   "id": "f70f1a61",
   "metadata": {},
   "outputs": [
    {
     "name": "stdout",
     "output_type": "stream",
     "text": [
      "Enter n =5\n",
      "1\n",
      "2\n",
      "6\n",
      "24\n",
      "120\n"
     ]
    }
   ],
   "source": [
    "# 5! = 1*2*3*4*5\n",
    "fac =1 \n",
    "n = int(input(\"Enter n =\"))\n",
    "for i in range (1,n+1):\n",
    "    fac = fac* i\n",
    "      \n",
    "    print(fac)\n"
   ]
  },
  {
   "cell_type": "code",
   "execution_count": null,
   "id": "f6b4a715",
   "metadata": {},
   "outputs": [],
   "source": [
    "fac = 24\n",
    "i =5"
   ]
  },
  {
   "cell_type": "code",
   "execution_count": null,
   "id": "aafcad4c",
   "metadata": {},
   "outputs": [],
   "source": [
    "#HOMEWORK \n",
    "#WAP TO CREATE A BILLING SYSTEM\n",
    "# name = ?\n",
    "# price = ?\n",
    "# quantity = ?\n",
    "# total = ?"
   ]
  },
  {
   "cell_type": "code",
   "execution_count": 1,
   "id": "d034df25",
   "metadata": {},
   "outputs": [
    {
     "name": "stdout",
     "output_type": "stream",
     "text": [
      "11\n"
     ]
    }
   ],
   "source": [
    "a = \"Hello world\"\n",
    "print(len(a))"
   ]
  },
  {
   "cell_type": "code",
   "execution_count": 5,
   "id": "b1cc023d",
   "metadata": {},
   "outputs": [
    {
     "name": "stdout",
     "output_type": "stream",
     "text": [
      "Hello world I am python"
     ]
    }
   ],
   "source": [
    "a = \"Hello world. I am python\"\n",
    "for i in a:\n",
    "    if i != \".\":\n",
    "        print(i,end = \"\")"
   ]
  },
  {
   "cell_type": "code",
   "execution_count": 6,
   "id": "e600d97e",
   "metadata": {},
   "outputs": [
    {
     "name": "stdout",
     "output_type": "stream",
     "text": [
      "Hello world I am python"
     ]
    }
   ],
   "source": [
    "a = \"Hello world. I am python!\"\n",
    "for i in a:\n",
    "    if i != \".\" and i != \"!\":\n",
    "        print(i,end = \"\")"
   ]
  },
  {
   "cell_type": "code",
   "execution_count": null,
   "id": "1500c64a",
   "metadata": {},
   "outputs": [],
   "source": [
    "# control statements\n",
    "# examples:\n",
    "#     break ()\n",
    "#     continue\n",
    "#     pass"
   ]
  },
  {
   "cell_type": "code",
   "execution_count": null,
   "id": "2ba3e69b",
   "metadata": {},
   "outputs": [],
   "source": [
    "#break"
   ]
  },
  {
   "cell_type": "code",
   "execution_count": 7,
   "id": "135f7363",
   "metadata": {},
   "outputs": [
    {
     "name": "stdout",
     "output_type": "stream",
     "text": [
      "0\n",
      "1\n",
      "2\n",
      "3\n",
      "4\n"
     ]
    }
   ],
   "source": [
    "n = 10\n",
    "for i in range (10):\n",
    "    if i == 5:\n",
    "        break\n",
    "    print(i)"
   ]
  },
  {
   "cell_type": "code",
   "execution_count": 10,
   "id": "2dbfda39",
   "metadata": {},
   "outputs": [
    {
     "name": "stdout",
     "output_type": "stream",
     "text": [
      "Hello world"
     ]
    }
   ],
   "source": [
    "a = \"Hello world. I am python\"\n",
    "for i in a:\n",
    "    if i == \".\":\n",
    "        break\n",
    "    print(i, end = \"\")"
   ]
  },
  {
   "cell_type": "code",
   "execution_count": 15,
   "id": "0750f905",
   "metadata": {},
   "outputs": [
    {
     "name": "stdout",
     "output_type": "stream",
     "text": [
      "Hello world I am python"
     ]
    }
   ],
   "source": [
    "a = \"Hello world. I am python\"\n",
    "for i in a:\n",
    "    if i == \".\":\n",
    "        continue\n",
    "    print(i, end = \"\")"
   ]
  },
  {
   "cell_type": "code",
   "execution_count": 24,
   "id": "a92038d7",
   "metadata": {},
   "outputs": [
    {
     "name": "stdout",
     "output_type": "stream",
     "text": [
      "0 1 2 3 4 6 7 8 9 "
     ]
    }
   ],
   "source": [
    "n = 10\n",
    "for i in range (10):\n",
    "    if i == 5:\n",
    "        continue\n",
    "    print(i,end = \" \")"
   ]
  },
  {
   "cell_type": "code",
   "execution_count": 26,
   "id": "008b46fa",
   "metadata": {},
   "outputs": [],
   "source": [
    "#pass  (when there is no sureity of what to print or when our code is incomplete)\n",
    "for i in range(5):\n",
    "    pass "
   ]
  },
  {
   "cell_type": "code",
   "execution_count": null,
   "id": "9e486a17",
   "metadata": {},
   "outputs": [],
   "source": [
    "# homework: while loop theory"
   ]
  },
  {
   "cell_type": "code",
   "execution_count": null,
   "id": "6e3e42d9",
   "metadata": {},
   "outputs": [],
   "source": [
    "# SYNTAX OF WHILE LOOP:\n",
    "#     while <condition>:\n",
    "#         <operations>"
   ]
  },
  {
   "cell_type": "code",
   "execution_count": 2,
   "id": "85cdd664",
   "metadata": {},
   "outputs": [
    {
     "name": "stdout",
     "output_type": "stream",
     "text": [
      "0 Hello world\n",
      "1 Hello world\n",
      "2 Hello world\n",
      "3 Hello world\n",
      "4 Hello world\n",
      "5 Hello world\n"
     ]
    }
   ],
   "source": [
    "a = 0\n",
    "while a <= 5:\n",
    "    print(a,\"Hello world\")\n",
    "    a = a + 1"
   ]
  },
  {
   "cell_type": "code",
   "execution_count": 3,
   "id": "af7ffb8d",
   "metadata": {},
   "outputs": [
    {
     "name": "stdout",
     "output_type": "stream",
     "text": [
      "1 Hello world\n",
      "2 Hello world\n",
      "3 Hello world\n",
      "4 Hello world\n",
      "5 Hello world\n"
     ]
    }
   ],
   "source": [
    "a = 1\n",
    "while a <= 5:\n",
    "    print(a,\"Hello world\")\n",
    "    a = a + 1"
   ]
  },
  {
   "cell_type": "code",
   "execution_count": 4,
   "id": "f0a21dab",
   "metadata": {},
   "outputs": [
    {
     "name": "stdout",
     "output_type": "stream",
     "text": [
      "1 Hello world\n",
      "3 Hello world\n",
      "5 Hello world\n"
     ]
    }
   ],
   "source": [
    "a = 1\n",
    "while a <= 5:\n",
    "    print(a,\"Hello world\")\n",
    "    a = a + 2"
   ]
  },
  {
   "cell_type": "code",
   "execution_count": 6,
   "id": "643328dc",
   "metadata": {},
   "outputs": [
    {
     "name": "stdout",
     "output_type": "stream",
     "text": [
      "5 Hello world\n",
      "4 Hello world\n",
      "3 Hello world\n",
      "2 Hello world\n",
      "1 Hello world\n",
      "0 Hello world\n"
     ]
    }
   ],
   "source": [
    "a = 5\n",
    "while a >= 0:\n",
    "    print(a,\"Hello world\")\n",
    "    a = a - 1"
   ]
  },
  {
   "cell_type": "code",
   "execution_count": 9,
   "id": "3ec684f0",
   "metadata": {},
   "outputs": [
    {
     "name": "stdout",
     "output_type": "stream",
     "text": [
      "Enter n =7\n",
      "7 * 1 = 7\n",
      "7 * 2 = 14\n",
      "7 * 3 = 21\n",
      "7 * 4 = 28\n",
      "7 * 5 = 35\n",
      "7 * 6 = 42\n",
      "7 * 7 = 49\n",
      "7 * 8 = 56\n",
      "7 * 9 = 63\n",
      "7 * 10 = 70\n"
     ]
    }
   ],
   "source": [
    "i = 1\n",
    "n = int(input('Enter n ='))\n",
    "while i <= 10:\n",
    "    print(n,\"*\",i,\"=\",n*i)\n",
    "    i = i + 1"
   ]
  },
  {
   "cell_type": "code",
   "execution_count": 13,
   "id": "7e0ab8b7",
   "metadata": {},
   "outputs": [
    {
     "name": "stdout",
     "output_type": "stream",
     "text": [
      "Enter n =3\n",
      "Enter x =5\n",
      "Enter x =7\n",
      "Enter x =7\n",
      "19\n"
     ]
    }
   ],
   "source": [
    "i = 0\n",
    "s = 0\n",
    "n = int(input(\"Enter n =\"))\n",
    "while i<n:\n",
    "    x = int(input(\"Enter x =\"))\n",
    "    s = s + x\n",
    "    i = i + 1 \n",
    "print(s)"
   ]
  },
  {
   "cell_type": "code",
   "execution_count": 16,
   "id": "96fd0e01",
   "metadata": {},
   "outputs": [
    {
     "name": "stdout",
     "output_type": "stream",
     "text": [
      "Enter n =3\n",
      "Enter x =neera \n",
      "Enter x =eva\n",
      "Enter x =anugya\n",
      "neera \n",
      "eva\n",
      "anugya\n",
      "\n"
     ]
    }
   ],
   "source": [
    "i = 0\n",
    "s = \"\"\n",
    "n = int(input(\"Enter n =\"))\n",
    "while i<n:\n",
    "    x = input(\"Enter x =\")\n",
    "    s = s + x + \"\\n\"\n",
    "    i = i + 1 \n",
    "print(s)"
   ]
  },
  {
   "cell_type": "code",
   "execution_count": null,
   "id": "48ad615e",
   "metadata": {},
   "outputs": [],
   "source": [
    "#factorial\n",
    "# 5! = 1*2*3*4*5"
   ]
  },
  {
   "cell_type": "code",
   "execution_count": 21,
   "id": "30a29f39",
   "metadata": {},
   "outputs": [
    {
     "name": "stdout",
     "output_type": "stream",
     "text": [
      "Enter n =7\n",
      "5040\n"
     ]
    }
   ],
   "source": [
    "i = 1 \n",
    "fac = 1 \n",
    "n = int(input(\"Enter n =\"))\n",
    "while i<=n:\n",
    "    fac = fac* i\n",
    "    i = i + 1\n",
    "print(fac)\n",
    "\n"
   ]
  },
  {
   "cell_type": "code",
   "execution_count": null,
   "id": "bd995a1d",
   "metadata": {},
   "outputs": [],
   "source": [
    "# control statements\n",
    "# examples:\n",
    "#     break ()\n",
    "#     continue\n",
    "#     pass"
   ]
  },
  {
   "cell_type": "code",
   "execution_count": null,
   "id": "fde89f2c",
   "metadata": {},
   "outputs": [],
   "source": [
    "#break"
   ]
  },
  {
   "cell_type": "code",
   "execution_count": 7,
   "id": "0467483a",
   "metadata": {},
   "outputs": [
    {
     "name": "stdout",
     "output_type": "stream",
     "text": [
      "0\n",
      "1\n",
      "2\n",
      "3\n",
      "4\n"
     ]
    }
   ],
   "source": [
    "i = 0\n",
    "while i<=10:\n",
    "    if i ==5:\n",
    "        break\n",
    "    print(i)\n",
    "    i = i + 1"
   ]
  },
  {
   "cell_type": "code",
   "execution_count": 13,
   "id": "634a137f",
   "metadata": {},
   "outputs": [
    {
     "name": "stdout",
     "output_type": "stream",
     "text": [
      "6\n",
      "7\n",
      "8\n",
      "9\n",
      "10\n"
     ]
    }
   ],
   "source": [
    "i = 5\n",
    "while i<=10:\n",
    "    if i ==5:\n",
    "        i = i + 1\n",
    "        continue\n",
    "    print(i)\n",
    "    i = i + 1"
   ]
  },
  {
   "cell_type": "code",
   "execution_count": null,
   "id": "27288152",
   "metadata": {},
   "outputs": [],
   "source": [
    "# for else loop\n"
   ]
  },
  {
   "cell_type": "code",
   "execution_count": 14,
   "id": "8a83c2d8",
   "metadata": {},
   "outputs": [],
   "source": [
    "# prime no : 2,3,5,7,11,13,17,19\n",
    "# composite : 4,6,8,10,12,14,16"
   ]
  },
  {
   "cell_type": "code",
   "execution_count": 18,
   "id": "3757fbd1",
   "metadata": {},
   "outputs": [
    {
     "name": "stdout",
     "output_type": "stream",
     "text": [
      "Enter n =11\n",
      "Prime number\n"
     ]
    }
   ],
   "source": [
    "n = int(input(\"Enter n =\"))\n",
    "for i in range (2,n):\n",
    "    if n%i==0:\n",
    "        print(\"Composite number\")\n",
    "        break\n",
    "else:\n",
    "    print(\"Prime number\")"
   ]
  },
  {
   "cell_type": "code",
   "execution_count": null,
   "id": "f81d32f6",
   "metadata": {},
   "outputs": [],
   "source": [
    "# Next string"
   ]
  },
  {
   "cell_type": "code",
   "execution_count": null,
   "id": "aeed0803",
   "metadata": {},
   "outputs": [],
   "source": []
  }
 ],
 "metadata": {
  "kernelspec": {
   "display_name": "Python 3 (ipykernel)",
   "language": "python",
   "name": "python3"
  },
  "language_info": {
   "codemirror_mode": {
    "name": "ipython",
    "version": 3
   },
   "file_extension": ".py",
   "mimetype": "text/x-python",
   "name": "python",
   "nbconvert_exporter": "python",
   "pygments_lexer": "ipython3",
   "version": "3.11.7"
  }
 },
 "nbformat": 4,
 "nbformat_minor": 5
}
