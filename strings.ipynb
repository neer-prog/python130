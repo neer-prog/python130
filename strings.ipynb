{
 "cells": [
  {
   "cell_type": "code",
   "execution_count": 1,
   "id": "1a50eb95",
   "metadata": {},
   "outputs": [
    {
     "name": "stdout",
     "output_type": "stream",
     "text": [
      "<class 'str'>\n",
      "<class 'str'>\n",
      "<class 'str'>\n"
     ]
    }
   ],
   "source": [
    "a = \"Hello world\"\n",
    "b = 'Hello world'\n",
    "c = 'Hello world'\n",
    "print(type(a))\n",
    "print(type(b))\n",
    "print(type(c))"
   ]
  },
  {
   "cell_type": "code",
   "execution_count": 2,
   "id": "018fe231",
   "metadata": {},
   "outputs": [
    {
     "name": "stdout",
     "output_type": "stream",
     "text": [
      "HelloWorld\n"
     ]
    }
   ],
   "source": [
    "a = \"Hello\"\n",
    "b = \"World\"\n",
    "c = a + b \n",
    "print(c)"
   ]
  },
  {
   "cell_type": "code",
   "execution_count": 3,
   "id": "03b9caf4",
   "metadata": {},
   "outputs": [
    {
     "name": "stdout",
     "output_type": "stream",
     "text": [
      "Hello world \n",
      "Hello world \n",
      "\n"
     ]
    }
   ],
   "source": [
    "a = \"Hello world \\n\"\n",
    "print(a*2)"
   ]
  },
  {
   "cell_type": "code",
   "execution_count": 4,
   "id": "443a1993",
   "metadata": {},
   "outputs": [
    {
     "name": "stdout",
     "output_type": "stream",
     "text": [
      "Hello world"
     ]
    }
   ],
   "source": [
    "a = \"Hello world\"\n",
    "for i in a:\n",
    "    print(i, end = \"\")"
   ]
  },
  {
   "cell_type": "code",
   "execution_count": 9,
   "id": "bd9f0fb2",
   "metadata": {},
   "outputs": [
    {
     "name": "stdout",
     "output_type": "stream",
     "text": [
      "H\n",
      "Hello\n",
      "Hlowrd\n"
     ]
    }
   ],
   "source": [
    "#STRING SLICING\n",
    "a = \"Hello world\"\n",
    "print(a[0])\n",
    "print(a[0:5])\n",
    "print(a[0:11:2])"
   ]
  },
  {
   "cell_type": "code",
   "execution_count": 10,
   "id": "b0e582c6",
   "metadata": {},
   "outputs": [
    {
     "name": "stdout",
     "output_type": "stream",
     "text": [
      "d\n",
      "dlrow olleH\n",
      "dlrow olleH\n"
     ]
    }
   ],
   "source": [
    "a = \"Hello world\"\n",
    "print(a[-1])\n",
    "print(a[-1:-12:-1])\n",
    "print(a[::-1])"
   ]
  },
  {
   "cell_type": "code",
   "execution_count": 11,
   "id": "d3c56d30",
   "metadata": {},
   "outputs": [
    {
     "data": {
      "text/plain": [
       "11"
      ]
     },
     "execution_count": 11,
     "metadata": {},
     "output_type": "execute_result"
    }
   ],
   "source": [
    "a = \"Hello world\"\n",
    "count = len(a)\n",
    "count"
   ]
  },
  {
   "cell_type": "code",
   "execution_count": 12,
   "id": "f07379a0",
   "metadata": {},
   "outputs": [
    {
     "name": "stdout",
     "output_type": "stream",
     "text": [
      "Hello world"
     ]
    }
   ],
   "source": [
    "a = \"Hello world\"\n",
    "l = len(a)\n",
    "for i in range(l):\n",
    "    print(a[i], end = \"\")"
   ]
  },
  {
   "cell_type": "code",
   "execution_count": 14,
   "id": "3e678ec2",
   "metadata": {},
   "outputs": [
    {
     "name": "stdout",
     "output_type": "stream",
     "text": [
      "H"
     ]
    }
   ],
   "source": [
    "i = 0\n",
    "a = \"Hello world\"\n",
    "l = len(a)\n",
    "while i<1:\n",
    "    print(a[i], end = \"\")\n",
    "    i = i+1"
   ]
  },
  {
   "cell_type": "code",
   "execution_count": 19,
   "id": "befdb7fe",
   "metadata": {},
   "outputs": [
    {
     "name": "stdout",
     "output_type": "stream",
     "text": [
      "Hello world i am Ram. I am from Kathmandu. I am 40\n"
     ]
    }
   ],
   "source": [
    "#STRING FORMATTING\n",
    "\n",
    "name = \"Ram\"\n",
    "age = 40\n",
    "add = \"Kathmandu\"\n",
    "\n",
    "info = f\"Hello world i am {name}. I am from {add}. I am {age}\"\n",
    "print(info)"
   ]
  },
  {
   "cell_type": "code",
   "execution_count": null,
   "id": "f844bca1",
   "metadata": {},
   "outputs": [
    {
     "name": "stdout",
     "output_type": "stream",
     "text": [
      "Enter n =7\n",
      "Enter product name = rice\n",
      "Enter price =90\n",
      "Enter quantity = 1\n",
      "Enter product name = daal\n",
      "Enter price =90\n",
      "Enter quantity = 1\n"
     ]
    }
   ],
   "source": [
    "all_total = 0\n",
    "info = \"\"\n",
    "n = int(input(\"Enter n =\"))\n",
    "for i in range (n):\n",
    "    name = input(\"Enter product name = \")\n",
    "    price = int(input(\"Enter price =\"))\n",
    "    qty = int(input(\"Enter quantity = \"))\n",
    "    total = price * qty\n",
    "    info = info + f\"{name} {price} {qty} {total} \\n\"\n",
    "    all_total = all_total + total \n",
    "print(info)\n",
    "print(all_total)"
   ]
  },
  {
   "cell_type": "code",
   "execution_count": null,
   "id": "bb222572",
   "metadata": {},
   "outputs": [],
   "source": [
    "# SEARCH IN STRING\n",
    "\n",
    "name = \"Ram Shyam Hari Sita Gita Akash Nabin Nilam Nilam\"  #sequence of characters\n",
    "search = input(\"Enter name =\")\n",
    "if search in name:\n",
    "    print(\"Yes\",name.count(search))    #shows the amount of character (name.count)\n",
    "else:\n",
    "    print(\"No\")\n"
   ]
  },
  {
   "cell_type": "code",
   "execution_count": 1,
   "id": "bf7c56b2",
   "metadata": {},
   "outputs": [
    {
     "name": "stdout",
     "output_type": "stream",
     "text": [
      "RAM SHYAM HARI SITA GITA AKASH NABIN NILAM NILAM\n",
      "ram shyam hari sita gita akash nabin nilam nilam\n"
     ]
    }
   ],
   "source": [
    "name = \"Ram Shyam Hari Sita Gita Akash Nabin Nilam Nilam\"\n",
    "print(name.upper())\n",
    "print(name.lower())\n"
   ]
  },
  {
   "cell_type": "code",
   "execution_count": 5,
   "id": "51f94e8c",
   "metadata": {},
   "outputs": [
    {
     "name": "stdout",
     "output_type": "stream",
     "text": [
      "Enter name =ram\n",
      "Yes 2\n"
     ]
    }
   ],
   "source": [
    "# SEARCH IN STRING\n",
    "\n",
    "name = \"Ram Shyam Hari Sita Gita Akash Nabin Nilam Nilam Ramesh\".lower()  #.lower() is added to remove the limitation of ucase and lcase\n",
    "search = input(\"Enter name =\").lower()\n",
    "if search in name:\n",
    "    print(\"Yes\",name.count(search))   \n",
    "else:\n",
    "    print(\"No\")\n"
   ]
  },
  {
   "cell_type": "code",
   "execution_count": 7,
   "id": "dfc59966",
   "metadata": {},
   "outputs": [
    {
     "name": "stdout",
     "output_type": "stream",
     "text": [
      "Ram Shyam Harry Sita Gita Akash Nabin Nilam Nilam Ramesh\n"
     ]
    }
   ],
   "source": [
    "#replace\n",
    "name = \"Ram Shyam Hari Sita Gita Akash Nabin Nilam Nilam Ramesh\"\n",
    "name = name.replace(\"Hari\",\"Harry\")\n",
    "print(name)"
   ]
  },
  {
   "cell_type": "code",
   "execution_count": 9,
   "id": "53a1358d",
   "metadata": {},
   "outputs": [
    {
     "name": "stdout",
     "output_type": "stream",
     "text": [
      "Ram Shyam  Sita Gita Akash Nabin Nilam Nilam Ramesh\n"
     ]
    }
   ],
   "source": [
    "#replace or delete\n",
    "name = \"Ram Shyam Hari Sita Gita Akash Nabin Nilam Nilam Ramesh\"\n",
    "name = name.replace(\"Hari\",\"\") #empty string caused the removal of harry (\"\")\n",
    "print(name)"
   ]
  },
  {
   "cell_type": "code",
   "execution_count": 10,
   "id": "a40e8877",
   "metadata": {},
   "outputs": [
    {
     "data": {
      "text/plain": [
       "['Ram',\n",
       " 'Shyam',\n",
       " 'Hari',\n",
       " 'Sita',\n",
       " 'Gita',\n",
       " 'Akash',\n",
       " 'Nabin',\n",
       " 'Nilam',\n",
       " 'Nilam',\n",
       " 'Ramesh']"
      ]
     },
     "execution_count": 10,
     "metadata": {},
     "output_type": "execute_result"
    }
   ],
   "source": [
    "#replace\n",
    "name = \"Ram Shyam Hari Sita Gita Akash Nabin Nilam Nilam Ramesh\"\n",
    "name.split()\n"
   ]
  },
  {
   "cell_type": "code",
   "execution_count": null,
   "id": "ccb15764",
   "metadata": {},
   "outputs": [],
   "source": []
  }
 ],
 "metadata": {
  "kernelspec": {
   "display_name": "Python 3 (ipykernel)",
   "language": "python",
   "name": "python3"
  },
  "language_info": {
   "codemirror_mode": {
    "name": "ipython",
    "version": 3
   },
   "file_extension": ".py",
   "mimetype": "text/x-python",
   "name": "python",
   "nbconvert_exporter": "python",
   "pygments_lexer": "ipython3",
   "version": "3.11.7"
  }
 },
 "nbformat": 4,
 "nbformat_minor": 5
}
