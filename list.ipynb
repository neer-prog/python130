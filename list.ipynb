{
 "cells": [
  {
   "cell_type": "code",
   "execution_count": null,
   "id": "b7749f74",
   "metadata": {},
   "outputs": [],
   "source": [
    "# python collection\n",
    "# list \n",
    "# tuple\n",
    "# dict\n",
    "# # set\n"
   ]
  },
  {
   "cell_type": "code",
   "execution_count": null,
   "id": "ea705f37",
   "metadata": {},
   "outputs": [],
   "source": [
    "# list \n",
    "# - indexing\n",
    "# - multiple and duplicate data \n",
    "# -ordered \n",
    "# - mutable"
   ]
  },
  {
   "cell_type": "code",
   "execution_count": 3,
   "id": "ff7376cb",
   "metadata": {},
   "outputs": [
    {
     "name": "stdout",
     "output_type": "stream",
     "text": [
      "<class 'list'>\n",
      "<class 'list'>\n",
      "[1, 2, 3, 4, 5, 6, 7, 8, 9, 10]\n",
      "['Apple', 'Ball', 'Cat', 'Dog', 'Fish']\n"
     ]
    }
   ],
   "source": [
    "a = list()\n",
    "a = [1,2,3,4,5,6,7,8,9,10]\n",
    "b = [\"Apple\",\"Ball\",\"Cat\",\"Dog\",\"Fish\"]\n",
    "print(type(a))\n",
    "print(type(b))\n",
    "print(a)\n",
    "print(b)"
   ]
  },
  {
   "cell_type": "code",
   "execution_count": 4,
   "id": "c77332a6",
   "metadata": {},
   "outputs": [
    {
     "name": "stdout",
     "output_type": "stream",
     "text": [
      "Apple\n",
      "['Apple', 'Ball', 'Cat', 'Dog', 'Fish']\n",
      "['Apple', 'Cat', 'Fish']\n"
     ]
    }
   ],
   "source": [
    "#List supports indexing\n",
    "\n",
    "print(b[0])\n",
    "print(b[0:5])\n",
    "print(b[0:5:2])             # 2 means increment from two"
   ]
  },
  {
   "cell_type": "code",
   "execution_count": 5,
   "id": "f5613f57",
   "metadata": {},
   "outputs": [
    {
     "name": "stdout",
     "output_type": "stream",
     "text": [
      "[1, 2, 3, 4, 5, 6, 7, 8, 9, 10, 'Apple', 'Ball', 'Cat', 'Dog', 'Fish']\n"
     ]
    }
   ],
   "source": [
    "a = [1,2,3,4,5,6,7,8,9,10]\n",
    "b = [\"Apple\",\"Ball\",\"Cat\",\"Dog\",\"Fish\"]\n",
    "c = a + b\n",
    "print(c)"
   ]
  },
  {
   "cell_type": "code",
   "execution_count": 6,
   "id": "c88e4443",
   "metadata": {},
   "outputs": [
    {
     "name": "stdout",
     "output_type": "stream",
     "text": [
      "['Apple', 'Ball', 'Cat', 'Dog', 'Fish', 'Apple', 'Ball', 'Cat', 'Dog', 'Fish']\n"
     ]
    }
   ],
   "source": [
    "b = [\"Apple\",\"Ball\",\"Cat\",\"Dog\",\"Fish\"]\n",
    "print(b*2)"
   ]
  },
  {
   "cell_type": "code",
   "execution_count": 8,
   "id": "accbdc23",
   "metadata": {},
   "outputs": [
    {
     "name": "stdout",
     "output_type": "stream",
     "text": [
      "[1, 2, 3, 4, 5, 6, 7, 8, 9, 10, 1, 2, 3, 4, 5, 6, 7, 8, 9, 10]\n"
     ]
    }
   ],
   "source": [
    "a = [1,2,3,4,5,6,7,8,9,10]      # cannot be mathematically multiplied but can be enlarged\n",
    "print(a*2)"
   ]
  },
  {
   "cell_type": "code",
   "execution_count": null,
   "id": "9cc801b1",
   "metadata": {},
   "outputs": [],
   "source": [
    "# append() #insert() #extend()  ##append means adding smth"
   ]
  },
  {
   "cell_type": "code",
   "execution_count": 9,
   "id": "7850eb3b",
   "metadata": {},
   "outputs": [
    {
     "name": "stdout",
     "output_type": "stream",
     "text": [
      "['Apple', 'Ball', 'Cat', 'Dog', 'Fish', 'Ball']\n"
     ]
    }
   ],
   "source": [
    "b = [\"Apple\",\"Ball\",\"Cat\",\"Dog\",\"Fish\"]\n",
    "b.append(\"Ball\")\n",
    "print(b)"
   ]
  },
  {
   "cell_type": "code",
   "execution_count": null,
   "id": "6c7ac555",
   "metadata": {},
   "outputs": [],
   "source": [
    "# create a list\n"
   ]
  },
  {
   "cell_type": "code",
   "execution_count": 10,
   "id": "40627896",
   "metadata": {},
   "outputs": [
    {
     "name": "stdout",
     "output_type": "stream",
     "text": [
      "Enter n =2\n",
      "Enter x =45\n",
      "Enter x =78\n",
      "[45, 78]\n"
     ]
    }
   ],
   "source": [
    "a = []\n",
    "n = int(input(\"Enter n =\"))\n",
    "for i in range(n):\n",
    "    x = int(input('Enter x ='))\n",
    "    a.append(x)\n",
    "print(a)"
   ]
  },
  {
   "cell_type": "code",
   "execution_count": 12,
   "id": "f59c6c40",
   "metadata": {},
   "outputs": [
    {
     "name": "stdout",
     "output_type": "stream",
     "text": [
      "Min value = 45\n",
      "Max value = 78\n",
      "Sum value 123\n",
      "[45, 78]\n",
      "[78, 45]\n"
     ]
    }
   ],
   "source": [
    " print(\"Min value =\",min(a))      # shows the minimum value\n",
    "print(\"Max value =\", max(a))      #shows the maximum value\n",
    "print(\"Sum value\", sum(a))\n",
    "a.sort()     # this does the ascending part \n",
    "print(a)\n",
    "a.reverse()   # this does the descending part\n",
    "print(a)"
   ]
  },
  {
   "cell_type": "code",
   "execution_count": 13,
   "id": "49cc8aa1",
   "metadata": {},
   "outputs": [
    {
     "name": "stdout",
     "output_type": "stream",
     "text": [
      "['Apple', 'Ball', 'Banana', 'X ray', 'Yak']\n"
     ]
    }
   ],
   "source": [
    "a = [\"Ball\",\"X ray\",\"Yak\",\"Apple\",\"Banana\"]\n",
    "a.sort()        # does the aplhabetical ordering when it comes to strings\n",
    "print(a)"
   ]
  },
  {
   "cell_type": "code",
   "execution_count": 14,
   "id": "b48e4125",
   "metadata": {},
   "outputs": [
    {
     "name": "stdout",
     "output_type": "stream",
     "text": [
      "['Ball', 'Bat', 'X ray', 'Yak', 'Apple', 'Banana']\n"
     ]
    }
   ],
   "source": [
    "#insert()  [ if we wanna add some sort of value in the selected part]\n",
    "\n",
    "a = [\"Ball\",\"X ray\",\"Yak\",\"Apple\",\"Banana\"]\n",
    "a.insert(1,\"Bat\")\n",
    "print(a)"
   ]
  },
  {
   "cell_type": "code",
   "execution_count": 15,
   "id": "191c3293",
   "metadata": {},
   "outputs": [
    {
     "name": "stdout",
     "output_type": "stream",
     "text": [
      "['Ball', 'X ray', 'Yak', 'Apple', 'Banana', 1, 2, 3]\n"
     ]
    }
   ],
   "source": [
    "# Extend - if we wanna add smth immediately \n",
    "a = [\"Ball\",\"X ray\",\"Yak\",\"Apple\",\"Banana\"]   \n",
    "b = [1,2,3]\n",
    "a.extend(b)\n",
    "print(a)"
   ]
  },
  {
   "cell_type": "code",
   "execution_count": 16,
   "id": "56ce6d10",
   "metadata": {},
   "outputs": [
    {
     "data": {
      "text/plain": [
       "['ball', 'X ray', 'Yak', 'Apple', 'Banana']"
      ]
     },
     "execution_count": 16,
     "metadata": {},
     "output_type": "execute_result"
    }
   ],
   "source": [
    "# edit - edits the existing value in the list\n",
    "a = [\"Ball\",\"X ray\",\"Yak\",\"Apple\",\"Banana\"]   \n",
    "a[0] = \"ball\"\n",
    "a"
   ]
  },
  {
   "cell_type": "code",
   "execution_count": 21,
   "id": "a4349df6",
   "metadata": {},
   "outputs": [
    {
     "name": "stdout",
     "output_type": "stream",
     "text": [
      "['ball', 'xray', 'Yak', 'Apple', 'Banana']\n"
     ]
    }
   ],
   "source": [
    "a = [\"Ball\",\"X ray\",\"Yak\",\"Apple\",\"Banana\"]   \n",
    "a[0:2] = [\"ball\",\"xray\"]\n",
    "print(a)"
   ]
  },
  {
   "cell_type": "code",
   "execution_count": null,
   "id": "8c245776",
   "metadata": {},
   "outputs": [],
   "source": [
    "#del remove () pop()"
   ]
  },
  {
   "cell_type": "code",
   "execution_count": 22,
   "id": "944fb355",
   "metadata": {},
   "outputs": [
    {
     "name": "stdout",
     "output_type": "stream",
     "text": [
      "['X ray', 'Yak', 'Apple', 'Banana']\n"
     ]
    }
   ],
   "source": [
    "#del \n",
    "\n",
    "a = [\"Ball\",\"X ray\",\"Yak\",\"Apple\",\"Banana\"]   \n",
    "del(a[0])\n",
    "print(a)"
   ]
  },
  {
   "cell_type": "code",
   "execution_count": 23,
   "id": "d6388e0d",
   "metadata": {},
   "outputs": [
    {
     "name": "stdout",
     "output_type": "stream",
     "text": [
      "['Yak', 'Apple', 'Banana']\n"
     ]
    }
   ],
   "source": [
    "a = [\"Ball\",\"X ray\",\"Yak\",\"Apple\",\"Banana\"]   \n",
    "del a[0:2]\n",
    "print(a)"
   ]
  },
  {
   "cell_type": "code",
   "execution_count": 24,
   "id": "57b972c9",
   "metadata": {},
   "outputs": [
    {
     "data": {
      "text/plain": [
       "['X ray', 'Yak', 'Apple', 'Banana']"
      ]
     },
     "execution_count": 24,
     "metadata": {},
     "output_type": "execute_result"
    }
   ],
   "source": [
    "# remove() - removes a character from the list and cannot remove multiple values\n",
    "a = [\"Ball\",\"X ray\",\"Yak\",\"Apple\",\"Banana\"]   \n",
    "a.remove(\"Ball\")\n",
    "a"
   ]
  },
  {
   "cell_type": "code",
   "execution_count": 25,
   "id": "c898603c",
   "metadata": {},
   "outputs": [
    {
     "name": "stdout",
     "output_type": "stream",
     "text": [
      "['X ray', 'Yak', 'Apple', 'Banana']\n"
     ]
    },
    {
     "data": {
      "text/plain": [
       "'Ball'"
      ]
     },
     "execution_count": 25,
     "metadata": {},
     "output_type": "execute_result"
    }
   ],
   "source": [
    "#POP - KINDA MOVES THE VALUE FROM THE GIVEN LIST\n",
    "a = [\"Ball\",\"X ray\",\"Yak\",\"Apple\",\"Banana\"]  \n",
    "b = a.pop(0)\n",
    "print(a)\n",
    "b"
   ]
  },
  {
   "cell_type": "code",
   "execution_count": 27,
   "id": "29091432",
   "metadata": {},
   "outputs": [
    {
     "name": "stdout",
     "output_type": "stream",
     "text": [
      "Ball\n",
      "X ray\n",
      "Yak\n",
      "Apple\n",
      "Banana\n"
     ]
    }
   ],
   "source": [
    "# loop in list\n",
    "a = [\"Ball\",\"X ray\",\"Yak\",\"Apple\",\"Banana\"]   \n",
    "for i in a:\n",
    "    print(i)"
   ]
  },
  {
   "cell_type": "code",
   "execution_count": 28,
   "id": "f5b15113",
   "metadata": {},
   "outputs": [
    {
     "name": "stdout",
     "output_type": "stream",
     "text": [
      "5\n"
     ]
    }
   ],
   "source": [
    "l = [\"Ball\",\"X ray\",\"Yak\",\"Apple\",\"Banana\"]    \n",
    "print(len(l))        #Shows the length of the given list"
   ]
  },
  {
   "cell_type": "code",
   "execution_count": 3,
   "id": "c00efa92",
   "metadata": {},
   "outputs": [
    {
     "name": "stdout",
     "output_type": "stream",
     "text": [
      "Ball\n"
     ]
    }
   ],
   "source": [
    "i = 0\n",
    "a = [\"Ball\",\"X ray\",\"Yak\",\"Apple\",\"Banana\"]   \n",
    "l = len(a)\n",
    "while i<1:\n",
    "    print(a[i])\n",
    "    i = i+1"
   ]
  },
  {
   "cell_type": "code",
   "execution_count": 2,
   "id": "4b6fadec",
   "metadata": {},
   "outputs": [
    {
     "name": "stdout",
     "output_type": "stream",
     "text": [
      "Ball\n",
      "Xray\n",
      "Yak\n",
      "apple\n",
      "Banana\n"
     ]
    }
   ],
   "source": [
    "i = 0\n",
    "a = [\"Ball\",\"Xray\",\"Yak\",\"apple\",\"Banana\"]\n",
    "l = len(a)\n",
    "while i<l:\n",
    "    print(a[i])\n",
    "    i = i+1"
   ]
  },
  {
   "cell_type": "code",
   "execution_count": null,
   "id": "ec7cef6c",
   "metadata": {},
   "outputs": [],
   "source": [
    "# list inside list (Nested list)"
   ]
  },
  {
   "cell_type": "code",
   "execution_count": null,
   "id": "a7ab61e1",
   "metadata": {},
   "outputs": [],
   "source": [
    " l = "
   ]
  },
  {
   "cell_type": "code",
   "execution_count": 2,
   "id": "60cbf3a0",
   "metadata": {},
   "outputs": [
    {
     "name": "stdout",
     "output_type": "stream",
     "text": [
      "[4, 5, 6]\n"
     ]
    }
   ],
   "source": [
    "l = [[1,2,3]\n",
    "     ,[4,5,6]\n",
    "     ,[7,8,9]]\n",
    "\n",
    "print(l[1])"
   ]
  },
  {
   "cell_type": "code",
   "execution_count": 3,
   "id": "219ba73c",
   "metadata": {},
   "outputs": [
    {
     "name": "stdout",
     "output_type": "stream",
     "text": [
      "1\n"
     ]
    }
   ],
   "source": [
    "print(l[0][0])"
   ]
  },
  {
   "cell_type": "code",
   "execution_count": 5,
   "id": "31c21bde",
   "metadata": {},
   "outputs": [
    {
     "name": "stdout",
     "output_type": "stream",
     "text": [
      "5\n"
     ]
    }
   ],
   "source": [
    "print(l[1][1])"
   ]
  },
  {
   "cell_type": "code",
   "execution_count": 6,
   "id": "3ffb7723",
   "metadata": {},
   "outputs": [
    {
     "name": "stdout",
     "output_type": "stream",
     "text": [
      "[['Ram', 34, 'Kathmandu'], ['Shyam', 67, 'Bhaktapur'], ['Hari', 34, 'Lalitpur']]\n"
     ]
    }
   ],
   "source": [
    "l = [[\"Ram\", 34, \"Kathmandu\"],\n",
    "     [\"Shyam\",67,\"Bhaktapur\"],\n",
    "     [\"Hari\",34,\"Lalitpur\"]]\n",
    "\n",
    "print(l)\n",
    "    "
   ]
  },
  {
   "cell_type": "code",
   "execution_count": null,
   "id": "bfa46952",
   "metadata": {},
   "outputs": [],
   "source": [
    "# WAP TO CREATE LIST INSIDE LIST"
   ]
  },
  {
   "cell_type": "code",
   "execution_count": 12,
   "id": "6c2383e8",
   "metadata": {},
   "outputs": [
    {
     "name": "stdout",
     "output_type": "stream",
     "text": [
      "Enter n =2\n",
      "Enter Name = neera \n",
      "Enter age = 18 \n",
      "Enter address = chabahil \n",
      "Enter Name = eva \n",
      "Enter age = 20 \n",
      "Enter address = india\n",
      "[['neera ', '18 ', 'chabahil '], ['eva ', '20 ', 'india']]\n"
     ]
    }
   ],
   "source": [
    "info = []\n",
    "n = int(input(\"Enter n =\"))\n",
    "for i in range (n):\n",
    "    name = input(\"Enter Name = \")\n",
    "    age = input(\"Enter age = \")\n",
    "    add = input(\"Enter address = \")\n",
    "    info.append([name,age,add])    #whole list gets append\n",
    "    \n",
    "print(info)"
   ]
  },
  {
   "cell_type": "code",
   "execution_count": 19,
   "id": "e39308ce",
   "metadata": {},
   "outputs": [
    {
     "name": "stdout",
     "output_type": "stream",
     "text": [
      "[['Shyam', 56, 'Bhaktapur'], ['Ram', 23, 'Lalitpur'], ['Sabin', 56, 'Jhapa']]\n"
     ]
    }
   ],
   "source": [
    "l = [[\"Ram\", 45, \"Kathmandu\"],\n",
    "     [\"Shyam\",56,\"Bhaktapur\"],\n",
    "     [\"Ram\",23,\"Lalitpur\"],\n",
    "    [\"Sabin\",56, \"Jhapa\"]]\n",
    "l [0][0] = \"Ram Prasad\"     #l[0] = ['Ram prasad', 45, 'Kathmandu'] this is editing the list \n",
    "\n",
    "print(l)"
   ]
  },
  {
   "cell_type": "code",
   "execution_count": null,
   "id": "355d951a",
   "metadata": {},
   "outputs": [],
   "source": [
    "#delete \n",
    "del l [0]"
   ]
  },
  {
   "cell_type": "code",
   "execution_count": 20,
   "id": "764a71af",
   "metadata": {},
   "outputs": [
    {
     "name": "stdout",
     "output_type": "stream",
     "text": [
      "[['Shyam', 56, 'Bhaktapur'], ['Ram', 23, 'Lalitpur'], ['Sabin', 56, 'Jhapa']]\n"
     ]
    }
   ],
   "source": [
    "print(l)"
   ]
  },
  {
   "cell_type": "code",
   "execution_count": 36,
   "id": "805afad3",
   "metadata": {},
   "outputs": [
    {
     "name": "stdout",
     "output_type": "stream",
     "text": [
      "['Ram ', 45, 'Kathmandu']\n",
      "['Shyam', 56, 'Bhaktapur']\n",
      "['Ram', 23, 'Lalitpur']\n",
      "['Sabin', 56, 'Jhapa']\n"
     ]
    }
   ],
   "source": [
    "#search \n",
    "l = [[\"Ram \", 45, \"Kathmandu\"],\n",
    "     [\"Shyam\",56,\"Bhaktapur\"],\n",
    "     [\"Ram\",23,\"Lalitpur\"],\n",
    "    [\"Sabin\",56, \"Jhapa\"]]\n",
    "\n",
    "for i in l:\n",
    "    print(i)"
   ]
  },
  {
   "cell_type": "code",
   "execution_count": 42,
   "id": "6e5cd92e",
   "metadata": {},
   "outputs": [
    {
     "name": "stdout",
     "output_type": "stream",
     "text": [
      "Enter name = Ram\n",
      "['Ram', 23, 'Lalitpur']\n"
     ]
    }
   ],
   "source": [
    "#search \n",
    "name = input(\"Enter name = \")\n",
    "for i in l:\n",
    "    if name in i:\n",
    "        print(i)"
   ]
  },
  {
   "cell_type": "code",
   "execution_count": 40,
   "id": "ed9853bd",
   "metadata": {},
   "outputs": [
    {
     "name": "stdout",
     "output_type": "stream",
     "text": [
      "Yes 1\n"
     ]
    }
   ],
   "source": [
    "a = [\"Ram\", \"Shyam\", \"Hari\", \"Ramesh\", \"Shyam\"]\n",
    "if \"Ram\" in a:\n",
    "    print(\"Yes\",a.count(\"Ram\"))"
   ]
  },
  {
   "cell_type": "code",
   "execution_count": 30,
   "id": "12d0fac4",
   "metadata": {},
   "outputs": [
    {
     "name": "stdout",
     "output_type": "stream",
     "text": [
      "Ram\n",
      "Shyam\n",
      "Hari\n",
      "Ramesh\n",
      "Shyam\n"
     ]
    }
   ],
   "source": [
    "for i in a:\n",
    "    print(i)"
   ]
  },
  {
   "cell_type": "code",
   "execution_count": 3,
   "id": "8deaed28",
   "metadata": {},
   "outputs": [
    {
     "name": "stdout",
     "output_type": "stream",
     "text": [
      "Enter name = shyam\n",
      "['Shyam', 56, 'Bhaktapur']\n"
     ]
    }
   ],
   "source": [
    "#search \n",
    "l = [[\"Ram \", 45, \"Kathmandu\"],\n",
    "     [\"Shyam\",56,\"Bhaktapur\"],\n",
    "     [\"Ram Prasad\",23,\"Lalitpur\"],\n",
    "    [\"Sabin\",56, \"Jhapa\"]]\n",
    "name = input(\"Enter name = \")\n",
    "for i in l:\n",
    "    if name.lower() in i[0].lower():\n",
    "        print(i)"
   ]
  },
  {
   "cell_type": "code",
   "execution_count": null,
   "id": "469a1b78",
   "metadata": {},
   "outputs": [],
   "source": [
    "#WAP TO REMOVE all MULTIPLE or duplicate DATA FROM THE LIST\n",
    "# l = [\"Apple\",\"Ball\",\"Cat\",\"Fish\",\"Apple\"] \n",
    "\n",
    "# WAP TO FIND INDEX OF DUPLICATE DATA FROM LIST\n",
    "# l = [\"Apple\",\"Ball\",\"Cat\",\"Fish\",\"Apple\"]"
   ]
  },
  {
   "cell_type": "code",
   "execution_count": null,
   "id": "8734c8b6",
   "metadata": {},
   "outputs": [],
   "source": []
  }
 ],
 "metadata": {
  "kernelspec": {
   "display_name": "Python 3 (ipykernel)",
   "language": "python",
   "name": "python3"
  },
  "language_info": {
   "codemirror_mode": {
    "name": "ipython",
    "version": 3
   },
   "file_extension": ".py",
   "mimetype": "text/x-python",
   "name": "python",
   "nbconvert_exporter": "python",
   "pygments_lexer": "ipython3",
   "version": "3.11.7"
  }
 },
 "nbformat": 4,
 "nbformat_minor": 5
}
