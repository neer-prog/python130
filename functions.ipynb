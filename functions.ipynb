{
 "cells": [
  {
   "cell_type": "code",
   "execution_count": 1,
   "id": "cdd2e453",
   "metadata": {},
   "outputs": [],
   "source": [
    "# function\n",
    "# types\n",
    "# pre defined \n",
    "# user defined \n",
    "\n"
   ]
  },
  {
   "cell_type": "code",
   "execution_count": 2,
   "id": "d61e05f3",
   "metadata": {},
   "outputs": [],
   "source": [
    "# pre defined function\n",
    "# print()\n",
    "# int()\n",
    "# float()\n",
    "# str()\n",
    "# bool()\n",
    "# list()\n",
    "# dict()\n",
    "# set()"
   ]
  },
  {
   "cell_type": "code",
   "execution_count": 3,
   "id": "f0939f1e",
   "metadata": {},
   "outputs": [
    {
     "ename": "SyntaxError",
     "evalue": "invalid syntax (2298898047.py, line 1)",
     "output_type": "error",
     "traceback": [
      "\u001b[1;36m  Cell \u001b[1;32mIn[3], line 1\u001b[1;36m\u001b[0m\n\u001b[1;33m    def <function name>:\u001b[0m\n\u001b[1;37m        ^\u001b[0m\n\u001b[1;31mSyntaxError\u001b[0m\u001b[1;31m:\u001b[0m invalid syntax\n"
     ]
    }
   ],
   "source": [
    "# def <function name>:\n",
    "#     <operation>\n",
    "    \n",
    "# <function_name()>"
   ]
  },
  {
   "cell_type": "code",
   "execution_count": 4,
   "id": "e76e92d1",
   "metadata": {},
   "outputs": [
    {
     "name": "stdout",
     "output_type": "stream",
     "text": [
      "Hello world\n"
     ]
    }
   ],
   "source": [
    "def hello():      #fucntion define\n",
    "    print('Hello world')\n",
    "    \n",
    "hello()       #function call"
   ]
  },
  {
   "cell_type": "code",
   "execution_count": null,
   "id": "231f4956",
   "metadata": {},
   "outputs": [],
   "source": [
    "def area():\n",
    "    l = int(input(\"Enter length =\"))        #local variable\n",
    "    b = int(input(\"Enter breadth =\"))       #local variable\n",
    "    a = l*b                                 #local variable\n",
    "    print(a)\n",
    "area()"
   ]
  },
  {
   "cell_type": "code",
   "execution_count": null,
   "id": "40fd7c13",
   "metadata": {},
   "outputs": [],
   "source": [
    "l = int(input(\"Enter length =\"))        #global variable\n",
    "b = int(input(\"Enter breadth =\"))  #global variable\n",
    "   \n",
    "def area():\n",
    "    a = l*b                                 #local variable\n",
    "    print(a)\n",
    "    \n",
    "area()"
   ]
  },
  {
   "cell_type": "code",
   "execution_count": 1,
   "id": "e92fa33c",
   "metadata": {},
   "outputs": [
    {
     "name": "stdout",
     "output_type": "stream",
     "text": [
      "Enter length =12\n",
      "Enter breadth =12\n",
      "144\n"
     ]
    }
   ],
   "source": [
    "#function with arguments\n",
    "def area(l,b):                          #parameter(l,b)\n",
    "    a = l*b                                 #local variable\n",
    "    print(a)\n",
    "    \n",
    "l = int(input(\"Enter length =\"))        #local variable\n",
    "b = int(input(\"Enter breadth =\"))       #local variable\n",
    "area(l,b)                               #l,b are argument"
   ]
  },
  {
   "cell_type": "code",
   "execution_count": 2,
   "id": "7eeec926",
   "metadata": {},
   "outputs": [
    {
     "name": "stdout",
     "output_type": "stream",
     "text": [
      "Enter length =67\n",
      "Enter breadth =67\n",
      "4489\n"
     ]
    }
   ],
   "source": [
    "#function with arguments\n",
    "def area(x,y):                          #parameter(l,b)\n",
    "    a = x*y                                 #local variable\n",
    "    print(a)\n",
    "    \n",
    "l = int(input(\"Enter length =\"))        #global variable\n",
    "b = int(input(\"Enter breadth =\"))       #global variable\n",
    "area(l,b)                               #l,b are argument"
   ]
  },
  {
   "cell_type": "code",
   "execution_count": 5,
   "id": "13c6dae7",
   "metadata": {},
   "outputs": [
    {
     "name": "stdout",
     "output_type": "stream",
     "text": [
      "Enter length = 3\n",
      "Enter breadth = 3\n",
      "Enter height = 3\n",
      "area = 9\n",
      "volume = 27\n"
     ]
    }
   ],
   "source": [
    "def cal(x,y,z):\n",
    "    a = x*y\n",
    "    v = a*z\n",
    "    print(\"area =\",a)\n",
    "    print(\"volume =\",v)\n",
    "l = int(input(\"Enter length = \"))\n",
    "b = int(input(\"Enter breadth = \"))\n",
    "h = int(input(\"Enter height = \"))\n",
    "cal(l,b,h)"
   ]
  },
  {
   "cell_type": "code",
   "execution_count": 7,
   "id": "f84d761e",
   "metadata": {},
   "outputs": [
    {
     "name": "stdout",
     "output_type": "stream",
     "text": [
      "Enter length = 3\n",
      "Enter breadth = 3\n",
      "Enter height = 3\n",
      "9\n",
      "27\n"
     ]
    }
   ],
   "source": [
    "def area(x,y):\n",
    "    a = x*y\n",
    "    print(a)\n",
    "    pass \n",
    "\n",
    "def volume(x,y,z):\n",
    "    v = x*y*z\n",
    "    print(v)\n",
    "    pass\n",
    "\n",
    "l = int(input(\"Enter length = \"))\n",
    "b = int(input(\"Enter breadth = \"))\n",
    "h = int(input(\"Enter height = \"))\n",
    "\n",
    "area(l,b)\n",
    "volume(l,b,h)"
   ]
  },
  {
   "cell_type": "code",
   "execution_count": 10,
   "id": "ac8b5ddf",
   "metadata": {},
   "outputs": [
    {
     "name": "stdout",
     "output_type": "stream",
     "text": [
      "Enter length =100\n",
      "Enter breadth =20\n",
      "2000\n"
     ]
    }
   ],
   "source": [
    "def area():\n",
    "    global l\n",
    "    l = int(input(\"Enter length =\"))        #local variable\n",
    "    b = int(input(\"Enter breadth =\"))       #local variable\n",
    "    a = l*b                                 #local variable\n",
    "    print(a)\n",
    "area()"
   ]
  },
  {
   "cell_type": "code",
   "execution_count": 11,
   "id": "e7a8a32e",
   "metadata": {},
   "outputs": [
    {
     "name": "stdout",
     "output_type": "stream",
     "text": [
      "100\n",
      "3\n"
     ]
    }
   ],
   "source": [
    "print(l)\n",
    "print(b)"
   ]
  },
  {
   "cell_type": "code",
   "execution_count": 12,
   "id": "868177c1",
   "metadata": {},
   "outputs": [
    {
     "name": "stdout",
     "output_type": "stream",
     "text": [
      "C\n",
      "C++\n",
      "Java\n",
      "C#\n",
      "Python\n"
     ]
    }
   ],
   "source": [
    "def language(lan = \"Python\"):\n",
    "    print(lan)\n",
    "language(\"C\")\n",
    "language(\"C++\")\n",
    "language(\"Java\")\n",
    "language(\"C#\")\n",
    "language()\n",
    "    "
   ]
  },
  {
   "cell_type": "code",
   "execution_count": null,
   "id": "c995778b",
   "metadata": {},
   "outputs": [],
   "source": []
  }
 ],
 "metadata": {
  "kernelspec": {
   "display_name": "Python 3 (ipykernel)",
   "language": "python",
   "name": "python3"
  },
  "language_info": {
   "codemirror_mode": {
    "name": "ipython",
    "version": 3
   },
   "file_extension": ".py",
   "mimetype": "text/x-python",
   "name": "python",
   "nbconvert_exporter": "python",
   "pygments_lexer": "ipython3",
   "version": "3.11.7"
  }
 },
 "nbformat": 4,
 "nbformat_minor": 5
}
