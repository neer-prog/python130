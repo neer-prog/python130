{
 "cells": [
  {
   "cell_type": "code",
   "execution_count": null,
   "id": "ae513ae5",
   "metadata": {},
   "outputs": [],
   "source": [
    "# if else statements"
   ]
  },
  {
   "cell_type": "code",
   "execution_count": null,
   "id": "5404d86f",
   "metadata": {},
   "outputs": [],
   "source": [
    "#conditional statements\n",
    "#if else statements\n",
    "#loop"
   ]
  },
  {
   "cell_type": "code",
   "execution_count": null,
   "id": "f1d81064",
   "metadata": {},
   "outputs": [],
   "source": [
    "#if else statements\n",
    "#if <condition>:\n",
    "# <operations>\n"
   ]
  },
  {
   "cell_type": "markdown",
   "id": "5737892a",
   "metadata": {},
   "source": []
  },
  {
   "cell_type": "code",
   "execution_count": 5,
   "id": "6aa1d37d",
   "metadata": {},
   "outputs": [
    {
     "name": "stdout",
     "output_type": "stream",
     "text": [
      "Enter your age=10\n",
      "you are under age\n"
     ]
    }
   ],
   "source": [
    "# comparision operators\n",
    "# <> <= >= == !=\n",
    "age = int(input(\"Enter your age=\"))\n",
    "if age >= 20:\n",
    "    print(\"welcome\")\n",
    "else:\n",
    "        print(\"you are under age\")\n",
    "        "
   ]
  },
  {
   "cell_type": "code",
   "execution_count": 7,
   "id": "82616d20",
   "metadata": {},
   "outputs": [
    {
     "name": "stdout",
     "output_type": "stream",
     "text": [
      "Enter a =11\n",
      "The given number is odd\n"
     ]
    }
   ],
   "source": [
    "a = int(input(\"Enter a =\"))\n",
    "if a%2 == 0:\n",
    "    print(\"The given number is even\")\n",
    "else:\n",
    "    print(\"The given number is odd\")\n",
    "    "
   ]
  },
  {
   "cell_type": "code",
   "execution_count": 10,
   "id": "9b2a0d9b",
   "metadata": {},
   "outputs": [
    {
     "name": "stdout",
     "output_type": "stream",
     "text": [
      "Enter a = 200\n",
      "Enter b = 100\n",
      "a is greater\n"
     ]
    }
   ],
   "source": [
    "a = int(input(\"Enter a = \"))\n",
    "b = int(input(\"Enter b = \"))\n",
    "if a>b:\n",
    "    print(\"a is greater\")\n",
    "elif b>a:\n",
    "    print(\"b is greater\")\n",
    "else:\n",
    "    print(\"both are equal\")"
   ]
  },
  {
   "cell_type": "markdown",
   "id": "889d152e",
   "metadata": {},
   "source": [
    "\n",
    "chemsistry = int(input(\"Enter chemistry marks\"))\n",
    "maths = int(input(\"Enter maths marks\"))\n",
    "english = int(input(\"Enter english marks\"))\n",
    "nepali = int(input(\"Enter nepali marks\"))\n",
    "\n",
    "total = physics + nepali + maths + english + nepali\n",
    "per = total/5\n",
    "\n",
    "if per >= 80:\n",
    "    grade = \"A\"\n",
    "else per >= "
   ]
  },
  {
   "cell_type": "code",
   "execution_count": null,
   "id": "4753e81d",
   "metadata": {},
   "outputs": [],
   "source": [
    "phyiscs = int(input(\"Enter physics marks\"))\n",
    "chemsistry = int(input(\"Enter chemistry marks\"))\n",
    "maths = int(input(\"Enter maths marks\"))\n",
    "english = int(input(\"Enter english marks\"))\n",
    "nepali = int(input(\"Enter nepali marks\"))\n",
    "\n",
    "total = physics + maths + english + nepali + chemistry\n",
    "per = total/5\n",
    "\n",
    "if per >= 80:\n",
    "    grade = 'A'\n",
    "else per >= 60:\n",
    "    grade = 'B'\n",
    "elif per>= 45:\n",
    "    grade = 'C'\n",
    "else:\n",
    "    grade = 'F'\n",
    "    \n",
    "print(\"Your total = \",total )\n",
    "print(\"Per = \",per)\n",
    "print(\"Grade = \",grade)"
   ]
  },
  {
   "cell_type": "code",
   "execution_count": 1,
   "id": "03dde371",
   "metadata": {},
   "outputs": [
    {
     "name": "stdout",
     "output_type": "stream",
     "text": [
      "Enter a = 1\n",
      "Enter b = 0\n",
      " Enter + or - or * or / /\n",
      "The value of b cannot be zero\n"
     ]
    }
   ],
   "source": [
    "#basic calculator using if else statements\n",
    "\n",
    "a = int(input(\"Enter a = \"))\n",
    "b = int(input(\"Enter b = \"))\n",
    "o = input(\" Enter + or - or * or / \")\n",
    "if o == '+':\n",
    "    print(a+b)\n",
    "elif o == '-':\n",
    "    print(a-b)\n",
    "elif o == '*':\n",
    "    print(a*b)\n",
    "elif o == '/' and b!=0:\n",
    "    print(a/b)\n",
    "elif o == '/' and b==0:\n",
    "    print(\"The value of b cannot be zero\")\n",
    "else:\n",
    "    print(\"Invalid operator\")\n",
    "\n"
   ]
  },
  {
   "cell_type": "code",
   "execution_count": null,
   "id": "f4bfc406",
   "metadata": {},
   "outputs": [],
   "source": [
    "# to check multiple conditions\n",
    "#or \n",
    "#and"
   ]
  },
  {
   "cell_type": "code",
   "execution_count": null,
   "id": "bb4d2271",
   "metadata": {},
   "outputs": [],
   "source": []
  },
  {
   "cell_type": "code",
   "execution_count": null,
   "id": "afe9b29a",
   "metadata": {},
   "outputs": [],
   "source": []
  }
 ],
 "metadata": {
  "kernelspec": {
   "display_name": "Python 3 (ipykernel)",
   "language": "python",
   "name": "python3"
  },
  "language_info": {
   "codemirror_mode": {
    "name": "ipython",
    "version": 3
   },
   "file_extension": ".py",
   "mimetype": "text/x-python",
   "name": "python",
   "nbconvert_exporter": "python",
   "pygments_lexer": "ipython3",
   "version": "3.11.7"
  }
 },
 "nbformat": 4,
 "nbformat_minor": 5
}
