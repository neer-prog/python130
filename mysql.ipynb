{
 "cells": [
  {
   "cell_type": "code",
   "execution_count": 2,
   "id": "302202ee-17d9-4f65-8c3e-09b9cd13c3df",
   "metadata": {},
   "outputs": [
    {
     "name": "stdout",
     "output_type": "stream",
     "text": [
      "Requirement already satisfied: mysql-connector-python in c:\\users\\asus\\anaconda3\\lib\\site-packages (8.4.0)\n"
     ]
    }
   ],
   "source": [
    "!pip install mysql-connector-python"
   ]
  },
  {
   "cell_type": "code",
   "execution_count": 8,
   "id": "dcf68de9-45cf-4dd6-991c-5abfb3982b72",
   "metadata": {},
   "outputs": [],
   "source": [
    "import mysql.connector #importing database\n",
    "database = mysql.connector.connect(\n",
    "    host = \"localhost\",\n",
    "    user = \"root\",\n",
    "    password = \"\",\n",
    "    database = \"python_class_130\"\n",
    ")\n",
    "db = database.cursor()               #holds the sql queries"
   ]
  },
  {
   "cell_type": "code",
   "execution_count": 3,
   "id": "2641fdbc-6946-4da5-b6aa-dc2358ac99bb",
   "metadata": {},
   "outputs": [
    {
     "ename": "NameError",
     "evalue": "name 'db' is not defined",
     "output_type": "error",
     "traceback": [
      "\u001b[1;31m---------------------------------------------------------------------------\u001b[0m",
      "\u001b[1;31mNameError\u001b[0m                                 Traceback (most recent call last)",
      "Cell \u001b[1;32mIn[3], line 1\u001b[0m\n\u001b[1;32m----> 1\u001b[0m db\u001b[38;5;241m.\u001b[39mexecute(\u001b[38;5;124m\"\u001b[39m\u001b[38;5;124mSELECT * FROM student\u001b[39m\u001b[38;5;124m\"\u001b[39m)   \u001b[38;5;66;03m#READ DATA FROM TABLE\u001b[39;00m\n\u001b[0;32m      2\u001b[0m result \u001b[38;5;241m=\u001b[39m db\u001b[38;5;241m.\u001b[39mfetchall()\n\u001b[0;32m      3\u001b[0m \u001b[38;5;28;01mfor\u001b[39;00m x \u001b[38;5;129;01min\u001b[39;00m result:\n",
      "\u001b[1;31mNameError\u001b[0m: name 'db' is not defined"
     ]
    }
   ],
   "source": [
    " #READ DATA FROM TABLE\n",
    "db.execute(\"SELECT * FROM student\")   #READ DATA FROM TABLE\n",
    "result = db.fetchall()\n",
    "for x in result:\n",
    "    print(x)"
   ]
  },
  {
   "cell_type": "code",
   "execution_count": 9,
   "id": "3b636666-92a4-43eb-ae6b-07cf122dc7bf",
   "metadata": {},
   "outputs": [
    {
     "ename": "NameError",
     "evalue": "name 'db' is not defined",
     "output_type": "error",
     "traceback": [
      "\u001b[1;31m---------------------------------------------------------------------------\u001b[0m",
      "\u001b[1;31mNameError\u001b[0m                                 Traceback (most recent call last)",
      "Cell \u001b[1;32mIn[9], line 4\u001b[0m\n\u001b[0;32m      1\u001b[0m sql \u001b[38;5;241m=\u001b[39m \u001b[38;5;124m'''\u001b[39m\u001b[38;5;124m INSERT INTO student (number, name, physics, chemistry, maths, english, nepali, total, per, grade) \u001b[39m\n\u001b[0;32m      2\u001b[0m \u001b[38;5;124mVALUES (21, \u001b[39m\u001b[38;5;124m'\u001b[39m\u001b[38;5;124mneera\u001b[39m\u001b[38;5;124m'\u001b[39m\u001b[38;5;124m, 85, 85, 67, 83, 67, 100, 86.5, \u001b[39m\u001b[38;5;124m'\u001b[39m\u001b[38;5;124mA\u001b[39m\u001b[38;5;124m'\u001b[39m\u001b[38;5;124m);\u001b[39m\u001b[38;5;124m'''\u001b[39m\n\u001b[1;32m----> 4\u001b[0m db\u001b[38;5;241m.\u001b[39mexecute(sql)\n\u001b[0;32m      5\u001b[0m database\u001b[38;5;241m.\u001b[39mcommit()\n",
      "\u001b[1;31mNameError\u001b[0m: name 'db' is not defined"
     ]
    }
   ],
   "source": [
    "sql = ''' INSERT INTO student (number, name, physics, chemistry, maths, english, nepali, total, per, grade) \n",
    "VALUES (21, 'neera', 85, 85, 67, 83, 67, 100, 86.5, 'A');'''\n",
    "\n",
    "db.execute(sql)\n",
    "database.commit()"
   ]
  },
  {
   "cell_type": "code",
   "execution_count": null,
   "id": "ca4049e3-03fa-4d77-8156-f0a02dc59cc7",
   "metadata": {},
   "outputs": [],
   "source": []
  },
  {
   "cell_type": "code",
   "execution_count": null,
   "id": "01daac96-81cd-4de4-933e-906fa03df4c8",
   "metadata": {},
   "outputs": [],
   "source": []
  }
 ],
 "metadata": {
  "kernelspec": {
   "display_name": "Python 3 (ipykernel)",
   "language": "python",
   "name": "python3"
  },
  "language_info": {
   "codemirror_mode": {
    "name": "ipython",
    "version": 3
   },
   "file_extension": ".py",
   "mimetype": "text/x-python",
   "name": "python",
   "nbconvert_exporter": "python",
   "pygments_lexer": "ipython3",
   "version": "3.11.7"
  }
 },
 "nbformat": 4,
 "nbformat_minor": 5
}
